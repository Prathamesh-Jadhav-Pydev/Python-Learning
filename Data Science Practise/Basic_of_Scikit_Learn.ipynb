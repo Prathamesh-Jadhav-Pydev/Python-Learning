{
 "cells": [
  {
   "cell_type": "markdown",
   "id": "f21ea23e",
   "metadata": {},
   "source": [
    "<h1><center>Scikit Learn </center></h1>"
   ]
  },
  {
   "cell_type": "markdown",
   "id": "e46b1e80",
   "metadata": {},
   "source": [
    "#### Steps to build a model in scikit learn."
   ]
  },
  {
   "cell_type": "markdown",
   "id": "8688c7a7",
   "metadata": {},
   "source": [
    "- Import the model\n",
    "- Prepare the dataset.\n",
    "- Seprate the independant and target varibales.\n",
    "- create an object of the model.\n",
    "- fill the model with data.\n",
    "- use the model to predict target."
   ]
  },
  {
   "cell_type": "code",
   "execution_count": 2,
   "id": "6e9f96d3",
   "metadata": {},
   "outputs": [],
   "source": [
    "# import the scikit library \n",
    "import sklearn as skl"
   ]
  },
  {
   "cell_type": "code",
   "execution_count": 5,
   "id": "d6751c14",
   "metadata": {},
   "outputs": [
    {
     "data": {
      "text/plain": [
       "'0.24.1'"
      ]
     },
     "execution_count": 5,
     "metadata": {},
     "output_type": "execute_result"
    }
   ],
   "source": [
    "#check version of scikit library \n",
    "skl.__version__"
   ]
  },
  {
   "cell_type": "markdown",
   "id": "43dd1e15",
   "metadata": {},
   "source": [
    "- We have seen in the pandas notebook, that we have some missing values on our data.\n",
    "- We will impute those missing values using the scikit learn imputer."
   ]
  },
  {
   "cell_type": "code",
   "execution_count": 7,
   "id": "2e9d4372",
   "metadata": {},
   "outputs": [
    {
     "data": {
      "text/plain": [
       "Country                      0\n",
       "Total Cases                  0\n",
       "Total Deaths                 1\n",
       "Total Recovered              2\n",
       "Active Cases                 2\n",
       "Total Cases/1M population    0\n",
       "Deaths/1M population         1\n",
       "Total Tests                  4\n",
       "Tests/1M population          4\n",
       "Population                   0\n",
       "dtype: int64"
      ]
     },
     "execution_count": 7,
     "metadata": {},
     "output_type": "execute_result"
    }
   ],
   "source": [
    "# read the data set check for null values\n",
    "import pandas as pd\n",
    "data=pd.read_csv(\"worldwide covid data.csv\")\n",
    "data.isnull().sum()\n"
   ]
  },
  {
   "cell_type": "code",
   "execution_count": 20,
   "id": "680f1819",
   "metadata": {},
   "outputs": [
    {
     "data": {
      "text/plain": [
       "Country                       object\n",
       "Total Cases                    int64\n",
       "Total Deaths                 float64\n",
       "Total Recovered              float64\n",
       "Active Cases                 float64\n",
       "Total Cases/1M population      int64\n",
       "Deaths/1M population         float64\n",
       "Total Tests                  float64\n",
       "Tests/1M population          float64\n",
       "Population                     int64\n",
       "dtype: object"
      ]
     },
     "execution_count": 20,
     "metadata": {},
     "output_type": "execute_result"
    }
   ],
   "source": [
    "data.dtypes"
   ]
  },
  {
   "cell_type": "code",
   "execution_count": 8,
   "id": "309a4ada",
   "metadata": {},
   "outputs": [],
   "source": [
    "#import the simpleimputer\n",
    "from sklearn.impute import SimpleImputer"
   ]
  },
  {
   "cell_type": "markdown",
   "id": "13954c41",
   "metadata": {},
   "source": [
    "- For imputing the missing values, we will use SimpleImputer.\n",
    "- First we will create an object of the imputer and define the strategy.\n",
    "- We will impute the Total_deaths,total recovered,active cases, deaths,total test,test 1 m population by mean.\n",
    "- Fill the objects with data.\n",
    "- Transform the data."
   ]
  },
  {
   "cell_type": "code",
   "execution_count": 12,
   "id": "c74c5921",
   "metadata": {},
   "outputs": [],
   "source": [
    "#create the object of the imputer for missing values columns\n",
    "# for numbers we calculate mean \n",
    "# for categeorical value we calculate most_frequent\n",
    "\n",
    "impute_total_deaths=SimpleImputer(strategy='mean')\n",
    "impute_total_recovered=SimpleImputer(strategy='mean')\n",
    "impute_active_cases=SimpleImputer(strategy='mean')\n",
    "impute_deaths_1m_population=SimpleImputer(strategy='mean')\n",
    "impute_total_test=SimpleImputer(strategy='mean')\n",
    "impute_test_1m_population=SimpleImputer(strategy='mean')"
   ]
  },
  {
   "cell_type": "code",
   "execution_count": 18,
   "id": "47eb0de0",
   "metadata": {},
   "outputs": [
    {
     "ename": "SyntaxError",
     "evalue": "invalid syntax (<ipython-input-18-a0bc40391228>, line 4)",
     "output_type": "error",
     "traceback": [
      "\u001b[1;36m  File \u001b[1;32m\"<ipython-input-18-a0bc40391228>\"\u001b[1;36m, line \u001b[1;32m4\u001b[0m\n\u001b[1;33m    data.Total Deaths=impute_total_deaths.transform(data[['Total Deaths']])\u001b[0m\n\u001b[1;37m               ^\u001b[0m\n\u001b[1;31mSyntaxError\u001b[0m\u001b[1;31m:\u001b[0m invalid syntax\n"
     ]
    }
   ],
   "source": [
    "# fit the  imputer with the data and transform\n",
    "\n",
    "impute_total_deaths.fit(data[['Total Deaths']])\n",
    "data.Total Deaths=impute_total_deaths.transform(data[['Total Deaths']])\n",
    "\n"
   ]
  },
  {
   "cell_type": "code",
   "execution_count": 17,
   "id": "59bae1e9",
   "metadata": {},
   "outputs": [
    {
     "data": {
      "text/plain": [
       "Country                      0\n",
       "Total Cases                  0\n",
       "Total Deaths                 1\n",
       "Total Recovered              2\n",
       "Active Cases                 2\n",
       "Total Cases/1M population    0\n",
       "Deaths/1M population         1\n",
       "Total Tests                  4\n",
       "Tests/1M population          4\n",
       "Population                   0\n",
       "dtype: int64"
      ]
     },
     "execution_count": 17,
     "metadata": {},
     "output_type": "execute_result"
    }
   ],
   "source": [
    "data.isnull().sum()"
   ]
  },
  {
   "cell_type": "code",
   "execution_count": null,
   "id": "1fe1d3a4",
   "metadata": {},
   "outputs": [],
   "source": []
  }
 ],
 "metadata": {
  "kernelspec": {
   "display_name": "Python 3",
   "language": "python",
   "name": "python3"
  },
  "language_info": {
   "codemirror_mode": {
    "name": "ipython",
    "version": 3
   },
   "file_extension": ".py",
   "mimetype": "text/x-python",
   "name": "python",
   "nbconvert_exporter": "python",
   "pygments_lexer": "ipython3",
   "version": "3.8.8"
  }
 },
 "nbformat": 4,
 "nbformat_minor": 5
}
