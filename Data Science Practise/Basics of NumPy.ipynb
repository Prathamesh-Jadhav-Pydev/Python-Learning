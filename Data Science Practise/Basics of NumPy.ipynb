{
 "cells": [
  {
   "cell_type": "markdown",
   "id": "e0989e9c",
   "metadata": {},
   "source": [
    "# Basics Of NumPy "
   ]
  },
  {
   "cell_type": "markdown",
   "id": "a1ef3b6c",
   "metadata": {},
   "source": [
    "Numpy is the fundamental package for scientific computing with Python.\n",
    "1) A powerful N-dimensional array object\n",
    "\n",
    "2) Sophisticated functions\n",
    "\n",
    "\n",
    "Source : https://numpy.org/\n",
    "\n"
   ]
  },
  {
   "cell_type": "code",
   "execution_count": 7,
   "id": "de7c204d",
   "metadata": {},
   "outputs": [],
   "source": [
    "#importing numpy library\n",
    "import numpy as np"
   ]
  },
  {
   "cell_type": "code",
   "execution_count": 3,
   "id": "a5f38a60",
   "metadata": {},
   "outputs": [
    {
     "data": {
      "text/plain": [
       "'1.20.1'"
      ]
     },
     "execution_count": 3,
     "metadata": {},
     "output_type": "execute_result"
    }
   ],
   "source": [
    "#check vesrion of numpy library \n",
    "np.__version__"
   ]
  },
  {
   "cell_type": "code",
   "execution_count": null,
   "id": "8b0c9eb6",
   "metadata": {},
   "outputs": [],
   "source": [
    "l1="
   ]
  },
  {
   "cell_type": "code",
   "execution_count": 4,
   "id": "816b1766",
   "metadata": {},
   "outputs": [
    {
     "data": {
      "text/plain": [
       "array([1, 2, 3, 4, 5])"
      ]
     },
     "execution_count": 4,
     "metadata": {},
     "output_type": "execute_result"
    }
   ],
   "source": [
    "#create a numpy array\n",
    "np.array([1,2,3,4,5])"
   ]
  },
  {
   "cell_type": "markdown",
   "id": "a99dad2a",
   "metadata": {},
   "source": [
    "# Single Dimensional Array creating in NumPy :"
   ]
  },
  {
   "cell_type": "code",
   "execution_count": 2,
   "id": "f4e0f8bc",
   "metadata": {},
   "outputs": [],
   "source": [
    "import numpy as np\n",
    "#single dimensional array\n",
    "n1=np.array([1,2,3,4,5])"
   ]
  },
  {
   "cell_type": "code",
   "execution_count": 3,
   "id": "63157f7a",
   "metadata": {
    "scrolled": true
   },
   "outputs": [
    {
     "data": {
      "text/plain": [
       "array([1, 2, 3, 4, 5])"
      ]
     },
     "execution_count": 3,
     "metadata": {},
     "output_type": "execute_result"
    }
   ],
   "source": [
    "n1"
   ]
  },
  {
   "cell_type": "markdown",
   "id": "908f8fd2",
   "metadata": {},
   "source": [
    "# Multi-dimensinal array creating in NumPy :"
   ]
  },
  {
   "cell_type": "code",
   "execution_count": 10,
   "id": "f1fdecf3",
   "metadata": {},
   "outputs": [
    {
     "name": "stderr",
     "output_type": "stream",
     "text": [
      "<ipython-input-10-bfc7fae4918d>:2: VisibleDeprecationWarning: Creating an ndarray from ragged nested sequences (which is a list-or-tuple of lists-or-tuples-or ndarrays with different lengths or shapes) is deprecated. If you meant to do this, you must specify 'dtype=object' when creating the ndarray.\n",
      "  n2=np.array([[1,2,3,4,5],[6,7,8,9]])\n"
     ]
    }
   ],
   "source": [
    "#multi-dimensinal array\n",
    "n2=np.array([[1,2,3,4,5],[6,7,8,9]])\n"
   ]
  },
  {
   "cell_type": "code",
   "execution_count": 9,
   "id": "3a3127e9",
   "metadata": {},
   "outputs": [
    {
     "data": {
      "text/plain": [
       "array([list([1, 2, 3, 4, 5]), list([6, 7, 8, 9])], dtype=object)"
      ]
     },
     "execution_count": 9,
     "metadata": {},
     "output_type": "execute_result"
    }
   ],
   "source": [
    "#print array n2\n",
    "n2"
   ]
  },
  {
   "cell_type": "code",
   "execution_count": 11,
   "id": "439b6b9f",
   "metadata": {},
   "outputs": [
    {
     "data": {
      "text/plain": [
       "numpy.ndarray"
      ]
     },
     "execution_count": 11,
     "metadata": {},
     "output_type": "execute_result"
    }
   ],
   "source": [
    "#print datatype of array n2\n",
    "type(n2)"
   ]
  },
  {
   "cell_type": "markdown",
   "id": "aa010ed4",
   "metadata": {},
   "source": [
    "# Initialzing NumPy array with zeros :"
   ]
  },
  {
   "cell_type": "code",
   "execution_count": 12,
   "id": "961aeffc",
   "metadata": {},
   "outputs": [
    {
     "data": {
      "text/plain": [
       "array([[0., 0.]])"
      ]
     },
     "execution_count": 12,
     "metadata": {},
     "output_type": "execute_result"
    }
   ],
   "source": [
    "n3=np.zeros((1,2))\n",
    "#np.zeros((row,column))\n",
    "n3"
   ]
  },
  {
   "cell_type": "code",
   "execution_count": 13,
   "id": "b86a6ea7",
   "metadata": {},
   "outputs": [
    {
     "data": {
      "text/plain": [
       "array([[0., 0., 0., 0., 0.],\n",
       "       [0., 0., 0., 0., 0.],\n",
       "       [0., 0., 0., 0., 0.],\n",
       "       [0., 0., 0., 0., 0.],\n",
       "       [0., 0., 0., 0., 0.]])"
      ]
     },
     "execution_count": 13,
     "metadata": {},
     "output_type": "execute_result"
    }
   ],
   "source": [
    "n4=np.zeros((5,5))\n",
    "#np.zeros((row,column))\n",
    "n4"
   ]
  },
  {
   "cell_type": "markdown",
   "id": "d480b834",
   "metadata": {},
   "source": [
    "# Initialzing NumPy array with same number :"
   ]
  },
  {
   "cell_type": "code",
   "execution_count": 14,
   "id": "3b580b7c",
   "metadata": {},
   "outputs": [
    {
     "data": {
      "text/plain": [
       "array([[10, 10],\n",
       "       [10, 10]])"
      ]
     },
     "execution_count": 14,
     "metadata": {},
     "output_type": "execute_result"
    }
   ],
   "source": [
    "n5=np.full((2,2),10)\n",
    "#np.full((row,column),number with initialize)\n",
    "n5"
   ]
  },
  {
   "cell_type": "markdown",
   "id": "c1ecb704",
   "metadata": {},
   "source": [
    "# Initailzing NumPy array within a range :"
   ]
  },
  {
   "cell_type": "code",
   "execution_count": 15,
   "id": "78055385",
   "metadata": {},
   "outputs": [
    {
     "data": {
      "text/plain": [
       "array([10, 11, 12, 13, 14, 15, 16, 17, 18, 19])"
      ]
     },
     "execution_count": 15,
     "metadata": {},
     "output_type": "execute_result"
    }
   ],
   "source": [
    "n6=np.arange(10,20)\n",
    "n6"
   ]
  },
  {
   "cell_type": "code",
   "execution_count": 16,
   "id": "e71de138",
   "metadata": {},
   "outputs": [
    {
     "data": {
      "text/plain": [
       "array([10, 15, 20, 25, 30, 35, 40, 45])"
      ]
     },
     "execution_count": 16,
     "metadata": {},
     "output_type": "execute_result"
    }
   ],
   "source": [
    "n7=np.arange(10,50,5)\n",
    "n7"
   ]
  },
  {
   "cell_type": "markdown",
   "id": "294d6b3d",
   "metadata": {},
   "source": [
    "# Initialzing NumPy array with random numbers"
   ]
  },
  {
   "cell_type": "code",
   "execution_count": 22,
   "id": "b74e308f",
   "metadata": {},
   "outputs": [
    {
     "data": {
      "text/plain": [
       "array([28, 13, 38, 21, 39])"
      ]
     },
     "execution_count": 22,
     "metadata": {},
     "output_type": "execute_result"
    }
   ],
   "source": [
    "n8=np.random.randint(1,50,5)\n",
    "#np.random.randint(Start point,end point,number of intergers select random)\n",
    "n8"
   ]
  },
  {
   "cell_type": "markdown",
   "id": "dcffb35e",
   "metadata": {},
   "source": [
    "# Checking the shape of NumPy array"
   ]
  },
  {
   "cell_type": "code",
   "execution_count": 24,
   "id": "1c6ba2c0",
   "metadata": {},
   "outputs": [
    {
     "data": {
      "text/plain": [
       "(2, 3)"
      ]
     },
     "execution_count": 24,
     "metadata": {},
     "output_type": "execute_result"
    }
   ],
   "source": [
    "n9=np.array([[1,2,4],[5,6,7]])\n",
    "n9.shape"
   ]
  },
  {
   "cell_type": "code",
   "execution_count": 25,
   "id": "f9a72e71",
   "metadata": {},
   "outputs": [
    {
     "data": {
      "text/plain": [
       "array([[1, 2, 4],\n",
       "       [5, 6, 7]])"
      ]
     },
     "execution_count": 25,
     "metadata": {},
     "output_type": "execute_result"
    }
   ],
   "source": [
    "#before changing shape of array -2-Row and 3 Column\n",
    "n9"
   ]
  },
  {
   "cell_type": "code",
   "execution_count": 26,
   "id": "90d6c6a6",
   "metadata": {},
   "outputs": [
    {
     "data": {
      "text/plain": [
       "(3, 2)"
      ]
     },
     "execution_count": 26,
     "metadata": {},
     "output_type": "execute_result"
    }
   ],
   "source": [
    "# Change the shape of array \n",
    "n9.shape=(3,2)\n",
    "n9.shape"
   ]
  },
  {
   "cell_type": "code",
   "execution_count": 27,
   "id": "e6dfe8ec",
   "metadata": {},
   "outputs": [
    {
     "data": {
      "text/plain": [
       "array([[1, 2],\n",
       "       [4, 5],\n",
       "       [6, 7]])"
      ]
     },
     "execution_count": 27,
     "metadata": {},
     "output_type": "execute_result"
    }
   ],
   "source": [
    "#before changing shape of array -3-Row and 2 Column\n",
    "n9"
   ]
  },
  {
   "cell_type": "markdown",
   "id": "0285a210",
   "metadata": {},
   "source": [
    "# Joining NumPy Arrays\n"
   ]
  },
  {
   "cell_type": "markdown",
   "id": "cc363aee",
   "metadata": {},
   "source": [
    "# 1.Vertical Stack   - vstack()"
   ]
  },
  {
   "cell_type": "code",
   "execution_count": 29,
   "id": "ec51d85d",
   "metadata": {},
   "outputs": [
    {
     "data": {
      "text/plain": [
       "array([[10, 20, 30],\n",
       "       [40, 50, 60]])"
      ]
     },
     "execution_count": 29,
     "metadata": {},
     "output_type": "execute_result"
    }
   ],
   "source": [
    "a1=np.array([10,20,30])\n",
    "a2=np.array([40,50,60])\n",
    "np.vstack((a1,a2))"
   ]
  },
  {
   "cell_type": "markdown",
   "id": "06b35890",
   "metadata": {},
   "source": [
    "# 2.Horizontal Stack - hstack()"
   ]
  },
  {
   "cell_type": "code",
   "execution_count": 30,
   "id": "0e07b476",
   "metadata": {},
   "outputs": [
    {
     "data": {
      "text/plain": [
       "array([10, 20, 30, 40, 50, 60])"
      ]
     },
     "execution_count": 30,
     "metadata": {},
     "output_type": "execute_result"
    }
   ],
   "source": [
    "#same above example\n",
    "np.hstack((a1,a2))"
   ]
  },
  {
   "cell_type": "markdown",
   "id": "f1191f12",
   "metadata": {},
   "source": [
    "# 3.Column stack  - column_stack()"
   ]
  },
  {
   "cell_type": "code",
   "execution_count": 31,
   "id": "553f63c7",
   "metadata": {},
   "outputs": [
    {
     "data": {
      "text/plain": [
       "array([[10, 40],\n",
       "       [20, 50],\n",
       "       [30, 60]])"
      ]
     },
     "execution_count": 31,
     "metadata": {},
     "output_type": "execute_result"
    }
   ],
   "source": [
    "np.column_stack((a1,a2))"
   ]
  },
  {
   "cell_type": "markdown",
   "id": "67067510",
   "metadata": {},
   "source": [
    "# NumPy Intersection & Difference "
   ]
  },
  {
   "cell_type": "code",
   "execution_count": 32,
   "id": "83661bd6",
   "metadata": {},
   "outputs": [
    {
     "data": {
      "text/plain": [
       "array([30, 40, 50, 60, 70])"
      ]
     },
     "execution_count": 32,
     "metadata": {},
     "output_type": "execute_result"
    }
   ],
   "source": [
    "# Intersection \n",
    "b1=np.array([10,20,30,40,50,60,70])\n",
    "b2=np.array([30,40,50,60,70,80,90])\n",
    "np.intersect1d(b1,b2)"
   ]
  },
  {
   "cell_type": "code",
   "execution_count": 34,
   "id": "d2251ed0",
   "metadata": {},
   "outputs": [
    {
     "data": {
      "text/plain": [
       "array([10, 20])"
      ]
     },
     "execution_count": 34,
     "metadata": {},
     "output_type": "execute_result"
    }
   ],
   "source": [
    "# Difference (b1,b2)\n",
    "np.setdiff1d(b1,b2)"
   ]
  },
  {
   "cell_type": "code",
   "execution_count": 35,
   "id": "88399ca3",
   "metadata": {},
   "outputs": [
    {
     "data": {
      "text/plain": [
       "array([80, 90])"
      ]
     },
     "execution_count": 35,
     "metadata": {},
     "output_type": "execute_result"
    }
   ],
   "source": [
    "# Difference (b2,b1)\n",
    "np.setdiff1d(b2,b1)"
   ]
  },
  {
   "cell_type": "markdown",
   "id": "af39aa8e",
   "metadata": {},
   "source": [
    "# Addition of NumPy Arrays"
   ]
  },
  {
   "cell_type": "code",
   "execution_count": 36,
   "id": "f19f6ca7",
   "metadata": {},
   "outputs": [
    {
     "data": {
      "text/plain": [
       "120"
      ]
     },
     "execution_count": 36,
     "metadata": {},
     "output_type": "execute_result"
    }
   ],
   "source": [
    "b3=np.array([30,40])\n",
    "b4=np.array([20,30])\n",
    "np.sum([b3,b4])"
   ]
  },
  {
   "cell_type": "code",
   "execution_count": 37,
   "id": "4df9325c",
   "metadata": {},
   "outputs": [
    {
     "data": {
      "text/plain": [
       "array([50, 70])"
      ]
     },
     "execution_count": 37,
     "metadata": {},
     "output_type": "execute_result"
    }
   ],
   "source": [
    "# column-wise addition set axis=0\n",
    "np.sum([b3,b4],axis=0)"
   ]
  },
  {
   "cell_type": "code",
   "execution_count": 38,
   "id": "196a910f",
   "metadata": {},
   "outputs": [
    {
     "data": {
      "text/plain": [
       "array([70, 50])"
      ]
     },
     "execution_count": 38,
     "metadata": {},
     "output_type": "execute_result"
    }
   ],
   "source": [
    "# Row-wise addition set axis=1\n",
    "np.sum([b3,b4],axis=1)"
   ]
  },
  {
   "cell_type": "markdown",
   "id": "55ee7260",
   "metadata": {},
   "source": [
    "# NumPy array Mathematics "
   ]
  },
  {
   "cell_type": "code",
   "execution_count": 39,
   "id": "08c7eb4c",
   "metadata": {},
   "outputs": [
    {
     "data": {
      "text/plain": [
       "array([11, 21, 31, 41])"
      ]
     },
     "execution_count": 39,
     "metadata": {},
     "output_type": "execute_result"
    }
   ],
   "source": [
    "#Basic Addition\n",
    "d1=np.array([10,20,30,40])\n",
    "d1=d1+1\n",
    "d1"
   ]
  },
  {
   "cell_type": "code",
   "execution_count": 40,
   "id": "e9d51c8f",
   "metadata": {},
   "outputs": [
    {
     "data": {
      "text/plain": [
       "array([ 8, 18, 28, 38])"
      ]
     },
     "execution_count": 40,
     "metadata": {},
     "output_type": "execute_result"
    }
   ],
   "source": [
    "#Basic Subtraction\n",
    "d1=np.array([10,20,30,40])\n",
    "d1=d1-2\n",
    "d1"
   ]
  },
  {
   "cell_type": "code",
   "execution_count": 41,
   "id": "75024ff9",
   "metadata": {},
   "outputs": [
    {
     "data": {
      "text/plain": [
       "array([20, 40, 60, 80])"
      ]
     },
     "execution_count": 41,
     "metadata": {},
     "output_type": "execute_result"
    }
   ],
   "source": [
    "#Basic Multiplication\n",
    "d1=np.array([10,20,30,40])\n",
    "d1=d1*2\n",
    "d1"
   ]
  },
  {
   "cell_type": "code",
   "execution_count": 42,
   "id": "a11a05a7",
   "metadata": {},
   "outputs": [
    {
     "data": {
      "text/plain": [
       "array([2., 4., 6., 8.])"
      ]
     },
     "execution_count": 42,
     "metadata": {},
     "output_type": "execute_result"
    }
   ],
   "source": [
    "#Basic Division\n",
    "d1=np.array([10,20,30,40])\n",
    "d1=d1/5\n",
    "d1"
   ]
  },
  {
   "cell_type": "markdown",
   "id": "6644c2f3",
   "metadata": {},
   "source": [
    "# NumPy Math Functions "
   ]
  },
  {
   "cell_type": "code",
   "execution_count": 44,
   "id": "49bc7793",
   "metadata": {},
   "outputs": [],
   "source": [
    "b4=np.array([10,20,30,40,50,60,70,80])"
   ]
  },
  {
   "cell_type": "code",
   "execution_count": 45,
   "id": "5d04420c",
   "metadata": {},
   "outputs": [
    {
     "data": {
      "text/plain": [
       "45.0"
      ]
     },
     "execution_count": 45,
     "metadata": {},
     "output_type": "execute_result"
    }
   ],
   "source": [
    "# Calculate mean of array b4\n",
    "np.mean(b4)"
   ]
  },
  {
   "cell_type": "code",
   "execution_count": 46,
   "id": "c746a709",
   "metadata": {},
   "outputs": [
    {
     "data": {
      "text/plain": [
       "22.9128784747792"
      ]
     },
     "execution_count": 46,
     "metadata": {},
     "output_type": "execute_result"
    }
   ],
   "source": [
    "#Standard Deviation\n",
    "np.std(b4)"
   ]
  },
  {
   "cell_type": "code",
   "execution_count": 47,
   "id": "ea7e5e5a",
   "metadata": {},
   "outputs": [
    {
     "data": {
      "text/plain": [
       "45.0"
      ]
     },
     "execution_count": 47,
     "metadata": {},
     "output_type": "execute_result"
    }
   ],
   "source": [
    "#Median \n",
    "np.median(b4)"
   ]
  },
  {
   "cell_type": "markdown",
   "id": "9a18a5af",
   "metadata": {},
   "source": [
    "# NumPy Save and Load "
   ]
  },
  {
   "cell_type": "code",
   "execution_count": 48,
   "id": "5710adee",
   "metadata": {},
   "outputs": [],
   "source": [
    "#Saving NumPy Array\n",
    "d2=np.array([10,20,30,40,50])\n",
    "np.save(\"My_NumPy\",d2)"
   ]
  },
  {
   "cell_type": "code",
   "execution_count": 49,
   "id": "ae501c02",
   "metadata": {},
   "outputs": [
    {
     "data": {
      "text/plain": [
       "array([10, 20, 30, 40, 50])"
      ]
     },
     "execution_count": 49,
     "metadata": {},
     "output_type": "execute_result"
    }
   ],
   "source": [
    "# Load NumPy Array \n",
    "m1=np.load(\"My_NumPy.npy\")\n",
    "m1"
   ]
  },
  {
   "cell_type": "markdown",
   "id": "60abec93",
   "metadata": {},
   "source": [
    "### Difference between NumPy array and python list with example"
   ]
  },
  {
   "cell_type": "markdown",
   "id": "f2041872",
   "metadata": {},
   "source": [
    "###### Python list "
   ]
  },
  {
   "cell_type": "code",
   "execution_count": 3,
   "id": "2063acbd",
   "metadata": {},
   "outputs": [
    {
     "data": {
      "text/plain": [
       "[1, 2, 3, '4', 5, True]"
      ]
     },
     "execution_count": 3,
     "metadata": {},
     "output_type": "execute_result"
    }
   ],
   "source": [
    "l1=[1,2,3,'4',5,True]\n",
    "l1"
   ]
  },
  {
   "cell_type": "markdown",
   "id": "e6653ccb",
   "metadata": {},
   "source": [
    "##### NumPy array"
   ]
  },
  {
   "cell_type": "code",
   "execution_count": 8,
   "id": "29c31c69",
   "metadata": {},
   "outputs": [
    {
     "data": {
      "text/plain": [
       "array(['1', '2', '3', '4', '5', 'True'], dtype='<U11')"
      ]
     },
     "execution_count": 8,
     "metadata": {},
     "output_type": "execute_result"
    }
   ],
   "source": [
    "# if we add an element of string data type in a numpy array\n",
    "# then it will upcast the data type to string of all the elements.\n",
    "l2=np.array([1,2,3,'4',5,True])\n",
    "l2"
   ]
  },
  {
   "cell_type": "markdown",
   "id": "ab456a19",
   "metadata": {},
   "source": [
    "##### Difference between numpy array and lis\n",
    " 1. Datatype should be same of all elements in a numpy whereas it can be different in case if lists.\n",
    " "
   ]
  },
  {
   "cell_type": "markdown",
   "id": "38e8b0f2",
   "metadata": {},
   "source": [
    "##### Now, we will create list and numpy array and apply a very basic function of multiplication by 2. we will see that in case of list the elements are duplicated and appended to the list whereas in case of numpy array where all elements are multiplied by 2."
   ]
  },
  {
   "cell_type": "code",
   "execution_count": 15,
   "id": "4a47567e",
   "metadata": {},
   "outputs": [
    {
     "data": {
      "text/plain": [
       "[1, 2, 3, '4', 5, True]"
      ]
     },
     "execution_count": 15,
     "metadata": {},
     "output_type": "execute_result"
    }
   ],
   "source": [
    "l1"
   ]
  },
  {
   "cell_type": "code",
   "execution_count": 14,
   "id": "11b926f9",
   "metadata": {
    "scrolled": true
   },
   "outputs": [
    {
     "data": {
      "text/plain": [
       "[1, 2, 3, '4', 5, True, 1, 2, 3, '4', 5, True]"
      ]
     },
     "execution_count": 14,
     "metadata": {},
     "output_type": "execute_result"
    }
   ],
   "source": [
    "# l1 list multiplied by 2 and see the result.\n",
    "l1*2"
   ]
  },
  {
   "cell_type": "code",
   "execution_count": 16,
   "id": "ca03bbdc",
   "metadata": {},
   "outputs": [
    {
     "data": {
      "text/plain": [
       "array([3, 4, 5, 6, 7])"
      ]
     },
     "execution_count": 16,
     "metadata": {},
     "output_type": "execute_result"
    }
   ],
   "source": [
    "# Broadcasting Operation \n",
    "# m2 list multiplied by 2 and see the result.\n",
    "m2=np.array([1,2,3,4,5])\n",
    "m2+2"
   ]
  },
  {
   "cell_type": "markdown",
   "id": "c980b080",
   "metadata": {},
   "source": [
    "### Create a matrix in NumPy "
   ]
  },
  {
   "cell_type": "code",
   "execution_count": 17,
   "id": "46f11527",
   "metadata": {},
   "outputs": [],
   "source": [
    "# first create a list and pass the list in numpy array.\n",
    "p1=([1,2,3],\n",
    "   [4,5,6],\n",
    "   [7,8,9])"
   ]
  },
  {
   "cell_type": "code",
   "execution_count": 18,
   "id": "a58bb204",
   "metadata": {},
   "outputs": [
    {
     "data": {
      "text/plain": [
       "([1, 2, 3], [4, 5, 6], [7, 8, 9])"
      ]
     },
     "execution_count": 18,
     "metadata": {},
     "output_type": "execute_result"
    }
   ],
   "source": [
    "p1"
   ]
  },
  {
   "cell_type": "code",
   "execution_count": 19,
   "id": "06716a4d",
   "metadata": {},
   "outputs": [],
   "source": [
    "a1=np.array(p1)"
   ]
  },
  {
   "cell_type": "code",
   "execution_count": 20,
   "id": "4d1c882d",
   "metadata": {},
   "outputs": [
    {
     "data": {
      "text/plain": [
       "array([[1, 2, 3],\n",
       "       [4, 5, 6],\n",
       "       [7, 8, 9]])"
      ]
     },
     "execution_count": 20,
     "metadata": {},
     "output_type": "execute_result"
    }
   ],
   "source": [
    "a1"
   ]
  },
  {
   "cell_type": "code",
   "execution_count": 23,
   "id": "78243123",
   "metadata": {},
   "outputs": [
    {
     "data": {
      "text/plain": [
       "2"
      ]
     },
     "execution_count": 23,
     "metadata": {},
     "output_type": "execute_result"
    }
   ],
   "source": [
    "# Access elements of matrix \n",
    "a1[0][1] #a1[row][column]"
   ]
  },
  {
   "cell_type": "code",
   "execution_count": 25,
   "id": "f0c278f3",
   "metadata": {
    "scrolled": true
   },
   "outputs": [
    {
     "data": {
      "text/plain": [
       "array([[3, 6, 1],\n",
       "       [3, 6, 6],\n",
       "       [3, 3, 7]])"
      ]
     },
     "execution_count": 25,
     "metadata": {},
     "output_type": "execute_result"
    }
   ],
   "source": [
    "# create a 3X3 array of random integers in the interval(0,10)\n",
    "np.random.randint(1,10,(3,3))"
   ]
  },
  {
   "cell_type": "markdown",
   "id": "ab61e247",
   "metadata": {},
   "source": [
    "#### We got a different matrix when we generated another random matrix. We can get the same matrix again by fixing the seed. let's see how?"
   ]
  },
  {
   "cell_type": "code",
   "execution_count": 28,
   "id": "14f01014",
   "metadata": {},
   "outputs": [
    {
     "data": {
      "text/plain": [
       "array([[5, 0, 3],\n",
       "       [3, 7, 9],\n",
       "       [3, 5, 2]])"
      ]
     },
     "execution_count": 28,
     "metadata": {},
     "output_type": "execute_result"
    }
   ],
   "source": [
    "#fixing the seed \n",
    "np.random.seed(0)\n",
    "np.random.randint(0,10,(3,3))"
   ]
  },
  {
   "cell_type": "markdown",
   "id": "a0f45fa4",
   "metadata": {},
   "source": [
    "##### Create a matrix of \"Ones\" of specific dimension."
   ]
  },
  {
   "cell_type": "code",
   "execution_count": 31,
   "id": "c0414f76",
   "metadata": {},
   "outputs": [
    {
     "data": {
      "text/plain": [
       "array([[1, 1, 1, 1, 1],\n",
       "       [1, 1, 1, 1, 1],\n",
       "       [1, 1, 1, 1, 1],\n",
       "       [1, 1, 1, 1, 1]])"
      ]
     },
     "execution_count": 31,
     "metadata": {},
     "output_type": "execute_result"
    }
   ],
   "source": [
    "# create matrix \n",
    "np.ones((4,5),dtype=int)"
   ]
  },
  {
   "cell_type": "markdown",
   "id": "3351186f",
   "metadata": {},
   "source": [
    "##### Create a indetity matrix "
   ]
  },
  {
   "cell_type": "code",
   "execution_count": 32,
   "id": "03165715",
   "metadata": {},
   "outputs": [
    {
     "data": {
      "text/plain": [
       "array([[1, 0, 0, 0, 0],\n",
       "       [0, 1, 0, 0, 0],\n",
       "       [0, 0, 1, 0, 0],\n",
       "       [0, 0, 0, 1, 0],\n",
       "       [0, 0, 0, 0, 1]])"
      ]
     },
     "execution_count": 32,
     "metadata": {},
     "output_type": "execute_result"
    }
   ],
   "source": [
    "np.identity(5,dtype=int)"
   ]
  },
  {
   "cell_type": "code",
   "execution_count": null,
   "id": "f48dd92b",
   "metadata": {},
   "outputs": [],
   "source": []
  }
 ],
 "metadata": {
  "kernelspec": {
   "display_name": "Python 3",
   "language": "python",
   "name": "python3"
  },
  "language_info": {
   "codemirror_mode": {
    "name": "ipython",
    "version": 3
   },
   "file_extension": ".py",
   "mimetype": "text/x-python",
   "name": "python",
   "nbconvert_exporter": "python",
   "pygments_lexer": "ipython3",
   "version": "3.8.8"
  }
 },
 "nbformat": 4,
 "nbformat_minor": 5
}
