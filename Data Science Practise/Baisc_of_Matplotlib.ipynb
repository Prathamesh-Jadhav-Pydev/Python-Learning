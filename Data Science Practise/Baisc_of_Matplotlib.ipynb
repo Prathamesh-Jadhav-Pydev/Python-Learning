{
 "cells": [
  {
   "cell_type": "markdown",
   "id": "2cf1b254",
   "metadata": {},
   "source": [
    "<h1><center>Data Visuliasation: Matplotlib</center></h1>"
   ]
  },
  {
   "cell_type": "markdown",
   "id": "a58d4d6d",
   "metadata": {},
   "source": [
    "#### MATPLOTLIB"
   ]
  },
  {
   "cell_type": "markdown",
   "id": "e7afe999",
   "metadata": {},
   "source": [
    "- Making plots and static or interactive visuliazation is one of the most important task in data analytics. \n",
    "\n"
   ]
  },
  {
   "cell_type": "code",
   "execution_count": 1,
   "id": "7fb93313",
   "metadata": {},
   "outputs": [],
   "source": [
    "#import matplotlib library\n",
    "import matplotlib as mpl"
   ]
  },
  {
   "cell_type": "code",
   "execution_count": 3,
   "id": "ddcfdcc9",
   "metadata": {},
   "outputs": [
    {
     "data": {
      "text/plain": [
       "'3.3.4'"
      ]
     },
     "execution_count": 3,
     "metadata": {},
     "output_type": "execute_result"
    }
   ],
   "source": [
    "# check verion of matplotlib library\n",
    "mpl.__version__"
   ]
  },
  {
   "cell_type": "code",
   "execution_count": 5,
   "id": "7db4a3e1",
   "metadata": {},
   "outputs": [],
   "source": [
    "# import matplotlib for plotting \n",
    "import matplotlib.pyplot as plt\n",
    "import numpy as np\n",
    "import pandas as pd"
   ]
  },
  {
   "cell_type": "code",
   "execution_count": 6,
   "id": "29747cea",
   "metadata": {},
   "outputs": [],
   "source": [
    "#### Line Plot\n",
    "x=np.linspace()"
   ]
  },
  {
   "cell_type": "code",
   "execution_count": null,
   "id": "edecd8c9",
   "metadata": {},
   "outputs": [],
   "source": []
  }
 ],
 "metadata": {
  "kernelspec": {
   "display_name": "Python 3",
   "language": "python",
   "name": "python3"
  },
  "language_info": {
   "codemirror_mode": {
    "name": "ipython",
    "version": 3
   },
   "file_extension": ".py",
   "mimetype": "text/x-python",
   "name": "python",
   "nbconvert_exporter": "python",
   "pygments_lexer": "ipython3",
   "version": "3.8.8"
  },
  "widgets": {
   "application/vnd.jupyter.widget-state+json": {
    "state": {},
    "version_major": 2,
    "version_minor": 0
   }
  }
 },
 "nbformat": 4,
 "nbformat_minor": 5
}
