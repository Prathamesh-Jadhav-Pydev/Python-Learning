{
 "cells": [
  {
   "cell_type": "markdown",
   "id": "0cdafc94",
   "metadata": {},
   "source": [
    "# <center> Basics of Pandas </center>"
   ]
  },
  {
   "cell_type": "markdown",
   "id": "2b2a2545",
   "metadata": {},
   "source": [
    "Pandas stands for Panel Data and is the core library for data manipulation \n",
    "and data analysis\n",
    "- We can read and write differnet formats of like JSON,CSV,EXCEL,HTML.etc\n"
   ]
  },
  {
   "cell_type": "code",
   "execution_count": 2,
   "id": "0b912002",
   "metadata": {},
   "outputs": [],
   "source": [
    "# importing pandas library\n",
    "import pandas as pd"
   ]
  },
  {
   "cell_type": "markdown",
   "id": "7f26e202",
   "metadata": {},
   "source": [
    "# Python Data Structures \n",
    "\n",
    "### Single-dimensional  is called \"Series Object\"\n",
    "\n",
    "### Multi-dimensional is called  \"DataFrame\""
   ]
  },
  {
   "cell_type": "code",
   "execution_count": 7,
   "id": "e9effb2a",
   "metadata": {},
   "outputs": [
    {
     "data": {
      "text/plain": [
       "0    1\n",
       "1    2\n",
       "2    3\n",
       "3    4\n",
       "4    5\n",
       "5    6\n",
       "6    7\n",
       "dtype: int64"
      ]
     },
     "execution_count": 7,
     "metadata": {},
     "output_type": "execute_result"
    }
   ],
   "source": [
    "# Series Object is one-dimensional labelled array\n",
    "s1=pd.Series([1,2,3,4,5,6,7])\n",
    "s1"
   ]
  },
  {
   "cell_type": "code",
   "execution_count": 8,
   "id": "3609ca78",
   "metadata": {},
   "outputs": [
    {
     "data": {
      "text/plain": [
       "pandas.core.series.Series"
      ]
     },
     "execution_count": 8,
     "metadata": {},
     "output_type": "execute_result"
    }
   ],
   "source": [
    "# type of series object\n",
    "type(s1)"
   ]
  },
  {
   "cell_type": "markdown",
   "id": "4d3213d8",
   "metadata": {},
   "source": [
    "#### Changing Index"
   ]
  },
  {
   "cell_type": "code",
   "execution_count": 9,
   "id": "c2403eeb",
   "metadata": {},
   "outputs": [
    {
     "data": {
      "text/plain": [
       "a    1\n",
       "b    2\n",
       "c    3\n",
       "d    4\n",
       "e    5\n",
       "f    6\n",
       "g    7\n",
       "dtype: int64"
      ]
     },
     "execution_count": 9,
     "metadata": {},
     "output_type": "execute_result"
    }
   ],
   "source": [
    "s2=pd.Series([1,2,3,4,5,6,7],index=['a','b','c','d','e','f','g'])\n",
    "s2"
   ]
  },
  {
   "cell_type": "markdown",
   "id": "fe9eed9c",
   "metadata": {},
   "source": [
    "#### Series Object from Dictionary "
   ]
  },
  {
   "cell_type": "code",
   "execution_count": 12,
   "id": "e8a89788",
   "metadata": {},
   "outputs": [
    {
     "data": {
      "text/plain": [
       "a    10\n",
       "b    20\n",
       "c    30\n",
       "d    40\n",
       "e    50\n",
       "dtype: int64"
      ]
     },
     "execution_count": 12,
     "metadata": {},
     "output_type": "execute_result"
    }
   ],
   "source": [
    "s3=pd.Series({'a':10,'b':20,'c':30,'d':40,'e':50,})\n",
    "s3"
   ]
  },
  {
   "cell_type": "code",
   "execution_count": 13,
   "id": "4119e532",
   "metadata": {},
   "outputs": [
    {
     "data": {
      "text/plain": [
       "b    20.0\n",
       "c    30.0\n",
       "d    40.0\n",
       "e    50.0\n",
       "f     NaN\n",
       "g     NaN\n",
       "dtype: float64"
      ]
     },
     "execution_count": 13,
     "metadata": {},
     "output_type": "execute_result"
    }
   ],
   "source": [
    "s3=pd.Series({'a':10,'b':20,'c':30,'d':40,'e':50,},index=['b','c','d','e','f','g'])\n",
    "s3"
   ]
  },
  {
   "cell_type": "markdown",
   "id": "40d8ff54",
   "metadata": {},
   "source": [
    "#### Extracting Individual Elements "
   ]
  },
  {
   "cell_type": "markdown",
   "id": "4ac350d6",
   "metadata": {},
   "source": [
    "##### Extracting a single element"
   ]
  },
  {
   "cell_type": "code",
   "execution_count": 15,
   "id": "44bba125",
   "metadata": {},
   "outputs": [
    {
     "data": {
      "text/plain": [
       "5"
      ]
     },
     "execution_count": 15,
     "metadata": {},
     "output_type": "execute_result"
    }
   ],
   "source": [
    "s3=pd.Series([1,2,3,4,5,6,7,8,9])\n",
    "s3[4]"
   ]
  },
  {
   "cell_type": "markdown",
   "id": "f30b70af",
   "metadata": {},
   "source": [
    "##### Extracting element from back "
   ]
  },
  {
   "cell_type": "code",
   "execution_count": 16,
   "id": "6f589cfc",
   "metadata": {},
   "outputs": [
    {
     "data": {
      "text/plain": [
       "6    7\n",
       "7    8\n",
       "8    9\n",
       "dtype: int64"
      ]
     },
     "execution_count": 16,
     "metadata": {},
     "output_type": "execute_result"
    }
   ],
   "source": [
    "s3[-3:]"
   ]
  },
  {
   "cell_type": "markdown",
   "id": "b04c2871",
   "metadata": {},
   "source": [
    "##### Extracting a sequence of elements "
   ]
  },
  {
   "cell_type": "code",
   "execution_count": 17,
   "id": "87ec907d",
   "metadata": {},
   "outputs": [
    {
     "data": {
      "text/plain": [
       "0    1\n",
       "1    2\n",
       "2    3\n",
       "3    4\n",
       "dtype: int64"
      ]
     },
     "execution_count": 17,
     "metadata": {},
     "output_type": "execute_result"
    }
   ],
   "source": [
    "s3[:4]"
   ]
  },
  {
   "cell_type": "markdown",
   "id": "83decc6e",
   "metadata": {},
   "source": [
    "## Basic Math Operations on Series "
   ]
  },
  {
   "cell_type": "markdown",
   "id": "a43dc5dd",
   "metadata": {},
   "source": [
    "#### Adding a scalar value to series elements "
   ]
  },
  {
   "cell_type": "code",
   "execution_count": 19,
   "id": "2a5aae2c",
   "metadata": {},
   "outputs": [
    {
     "data": {
      "text/plain": [
       "0    1\n",
       "1    2\n",
       "2    3\n",
       "3    4\n",
       "4    5\n",
       "5    6\n",
       "6    7\n",
       "7    8\n",
       "8    9\n",
       "dtype: int64"
      ]
     },
     "execution_count": 19,
     "metadata": {},
     "output_type": "execute_result"
    }
   ],
   "source": [
    "# Before \n",
    "s3"
   ]
  },
  {
   "cell_type": "code",
   "execution_count": 20,
   "id": "963e4cac",
   "metadata": {},
   "outputs": [
    {
     "data": {
      "text/plain": [
       "0     6\n",
       "1     7\n",
       "2     8\n",
       "3     9\n",
       "4    10\n",
       "5    11\n",
       "6    12\n",
       "7    13\n",
       "8    14\n",
       "dtype: int64"
      ]
     },
     "execution_count": 20,
     "metadata": {},
     "output_type": "execute_result"
    }
   ],
   "source": [
    "# After \n",
    "s3 +5"
   ]
  },
  {
   "cell_type": "markdown",
   "id": "51399dba",
   "metadata": {},
   "source": [
    "#### Adding tow series objects"
   ]
  },
  {
   "cell_type": "code",
   "execution_count": 22,
   "id": "f7117fc1",
   "metadata": {},
   "outputs": [
    {
     "data": {
      "text/plain": [
       "0     5\n",
       "1     7\n",
       "2     9\n",
       "3    11\n",
       "4    13\n",
       "dtype: int64"
      ]
     },
     "execution_count": 22,
     "metadata": {},
     "output_type": "execute_result"
    }
   ],
   "source": [
    "p1=pd.Series([1,2,3,4,5])\n",
    "p2=pd.Series([4,5,6,7,8])\n",
    "#Addition \n",
    "p1+p2\n"
   ]
  },
  {
   "cell_type": "code",
   "execution_count": 23,
   "id": "40c32e99",
   "metadata": {},
   "outputs": [
    {
     "data": {
      "text/plain": [
       "0   -3\n",
       "1   -3\n",
       "2   -3\n",
       "3   -3\n",
       "4   -3\n",
       "dtype: int64"
      ]
     },
     "execution_count": 23,
     "metadata": {},
     "output_type": "execute_result"
    }
   ],
   "source": [
    "# Subtraction\n",
    "p1-p2"
   ]
  },
  {
   "cell_type": "code",
   "execution_count": 25,
   "id": "df3401c8",
   "metadata": {},
   "outputs": [
    {
     "data": {
      "text/plain": [
       "0     4\n",
       "1    10\n",
       "2    18\n",
       "3    28\n",
       "4    40\n",
       "dtype: int64"
      ]
     },
     "execution_count": 25,
     "metadata": {},
     "output_type": "execute_result"
    }
   ],
   "source": [
    "#Multiplication\n",
    "p1*p2"
   ]
  },
  {
   "cell_type": "code",
   "execution_count": 26,
   "id": "2f9aa0d3",
   "metadata": {},
   "outputs": [
    {
     "data": {
      "text/plain": [
       "0    0.250000\n",
       "1    0.400000\n",
       "2    0.500000\n",
       "3    0.571429\n",
       "4    0.625000\n",
       "dtype: float64"
      ]
     },
     "execution_count": 26,
     "metadata": {},
     "output_type": "execute_result"
    }
   ],
   "source": [
    "# Division\n",
    "p1/p2"
   ]
  },
  {
   "cell_type": "markdown",
   "id": "300ed2f5",
   "metadata": {},
   "source": [
    "## \"Dataframe\" is a 2-dimensional labelled data structure \n"
   ]
  },
  {
   "cell_type": "code",
   "execution_count": 30,
   "id": "346ea4f7",
   "metadata": {},
   "outputs": [
    {
     "data": {
      "text/html": [
       "<div>\n",
       "<style scoped>\n",
       "    .dataframe tbody tr th:only-of-type {\n",
       "        vertical-align: middle;\n",
       "    }\n",
       "\n",
       "    .dataframe tbody tr th {\n",
       "        vertical-align: top;\n",
       "    }\n",
       "\n",
       "    .dataframe thead th {\n",
       "        text-align: right;\n",
       "    }\n",
       "</style>\n",
       "<table border=\"1\" class=\"dataframe\">\n",
       "  <thead>\n",
       "    <tr style=\"text-align: right;\">\n",
       "      <th></th>\n",
       "      <th>Name</th>\n",
       "      <th>Age</th>\n",
       "    </tr>\n",
       "  </thead>\n",
       "  <tbody>\n",
       "    <tr>\n",
       "      <th>0</th>\n",
       "      <td>Ram</td>\n",
       "      <td>20</td>\n",
       "    </tr>\n",
       "    <tr>\n",
       "      <th>1</th>\n",
       "      <td>Sam</td>\n",
       "      <td>34</td>\n",
       "    </tr>\n",
       "    <tr>\n",
       "      <th>2</th>\n",
       "      <td>Raghu</td>\n",
       "      <td>22</td>\n",
       "    </tr>\n",
       "    <tr>\n",
       "      <th>3</th>\n",
       "      <td>Sahil</td>\n",
       "      <td>14</td>\n",
       "    </tr>\n",
       "    <tr>\n",
       "      <th>4</th>\n",
       "      <td>Ramesh</td>\n",
       "      <td>50</td>\n",
       "    </tr>\n",
       "  </tbody>\n",
       "</table>\n",
       "</div>"
      ],
      "text/plain": [
       "     Name  Age\n",
       "0     Ram   20\n",
       "1     Sam   34\n",
       "2   Raghu   22\n",
       "3   Sahil   14\n",
       "4  Ramesh   50"
      ]
     },
     "execution_count": 30,
     "metadata": {},
     "output_type": "execute_result"
    }
   ],
   "source": [
    "pd.DataFrame({\"Name\":[\"Ram\",\"Sam\",\"Raghu\",\"Sahil\",\"Ramesh\"],\"Age\":[20,34,22,14,50]})"
   ]
  },
  {
   "cell_type": "markdown",
   "id": "1277cbfc",
   "metadata": {},
   "source": [
    "#### DataFrame In-built Functions"
   ]
  },
  {
   "cell_type": "code",
   "execution_count": 31,
   "id": "8f18fc85",
   "metadata": {},
   "outputs": [],
   "source": [
    "covid_data=pd.read_csv(\"worldwide covid data.csv\")"
   ]
  },
  {
   "cell_type": "code",
   "execution_count": 33,
   "id": "0e561a5c",
   "metadata": {},
   "outputs": [
    {
     "data": {
      "text/html": [
       "<div>\n",
       "<style scoped>\n",
       "    .dataframe tbody tr th:only-of-type {\n",
       "        vertical-align: middle;\n",
       "    }\n",
       "\n",
       "    .dataframe tbody tr th {\n",
       "        vertical-align: top;\n",
       "    }\n",
       "\n",
       "    .dataframe thead th {\n",
       "        text-align: right;\n",
       "    }\n",
       "</style>\n",
       "<table border=\"1\" class=\"dataframe\">\n",
       "  <thead>\n",
       "    <tr style=\"text-align: right;\">\n",
       "      <th></th>\n",
       "      <th>Country</th>\n",
       "      <th>Total Cases</th>\n",
       "      <th>Total Deaths</th>\n",
       "      <th>Total Recovered</th>\n",
       "      <th>Active Cases</th>\n",
       "      <th>Total Cases/1M population</th>\n",
       "      <th>Deaths/1M population</th>\n",
       "      <th>Total Tests</th>\n",
       "      <th>Tests/1M population</th>\n",
       "      <th>Population</th>\n",
       "    </tr>\n",
       "  </thead>\n",
       "  <tbody>\n",
       "    <tr>\n",
       "      <th>0</th>\n",
       "      <td>Afghanistan</td>\n",
       "      <td>155540</td>\n",
       "      <td>7228.0</td>\n",
       "      <td>126459.0</td>\n",
       "      <td>21853.0</td>\n",
       "      <td>3884</td>\n",
       "      <td>180.0</td>\n",
       "      <td>764934.0</td>\n",
       "      <td>19102.0</td>\n",
       "      <td>40044373</td>\n",
       "    </tr>\n",
       "    <tr>\n",
       "      <th>1</th>\n",
       "      <td>Albania</td>\n",
       "      <td>175163</td>\n",
       "      <td>2777.0</td>\n",
       "      <td>165434.0</td>\n",
       "      <td>6952.0</td>\n",
       "      <td>60952</td>\n",
       "      <td>966.0</td>\n",
       "      <td>1240204.0</td>\n",
       "      <td>431558.0</td>\n",
       "      <td>2873784</td>\n",
       "    </tr>\n",
       "    <tr>\n",
       "      <th>2</th>\n",
       "      <td>Algeria</td>\n",
       "      <td>204695</td>\n",
       "      <td>5855.0</td>\n",
       "      <td>140319.0</td>\n",
       "      <td>58521.0</td>\n",
       "      <td>4563</td>\n",
       "      <td>131.0</td>\n",
       "      <td>230861.0</td>\n",
       "      <td>5146.0</td>\n",
       "      <td>44859760</td>\n",
       "    </tr>\n",
       "    <tr>\n",
       "      <th>3</th>\n",
       "      <td>Andorra</td>\n",
       "      <td>15307</td>\n",
       "      <td>130.0</td>\n",
       "      <td>15098.0</td>\n",
       "      <td>79.0</td>\n",
       "      <td>197706</td>\n",
       "      <td>1679.0</td>\n",
       "      <td>193595.0</td>\n",
       "      <td>2500484.0</td>\n",
       "      <td>77423</td>\n",
       "    </tr>\n",
       "    <tr>\n",
       "      <th>4</th>\n",
       "      <td>Angola</td>\n",
       "      <td>61580</td>\n",
       "      <td>1629.0</td>\n",
       "      <td>49977.0</td>\n",
       "      <td>9974.0</td>\n",
       "      <td>1802</td>\n",
       "      <td>48.0</td>\n",
       "      <td>1043451.0</td>\n",
       "      <td>30541.0</td>\n",
       "      <td>34165887</td>\n",
       "    </tr>\n",
       "  </tbody>\n",
       "</table>\n",
       "</div>"
      ],
      "text/plain": [
       "       Country  Total Cases  Total Deaths  Total Recovered  Active Cases  \\\n",
       "0  Afghanistan       155540        7228.0         126459.0       21853.0   \n",
       "1      Albania       175163        2777.0         165434.0        6952.0   \n",
       "2      Algeria       204695        5855.0         140319.0       58521.0   \n",
       "3      Andorra        15307         130.0          15098.0          79.0   \n",
       "4       Angola        61580        1629.0          49977.0        9974.0   \n",
       "\n",
       "   Total Cases/1M population  Deaths/1M population  Total Tests  \\\n",
       "0                       3884                 180.0     764934.0   \n",
       "1                      60952                 966.0    1240204.0   \n",
       "2                       4563                 131.0     230861.0   \n",
       "3                     197706                1679.0     193595.0   \n",
       "4                       1802                  48.0    1043451.0   \n",
       "\n",
       "   Tests/1M population  Population  \n",
       "0              19102.0    40044373  \n",
       "1             431558.0     2873784  \n",
       "2               5146.0    44859760  \n",
       "3            2500484.0       77423  \n",
       "4              30541.0    34165887  "
      ]
     },
     "execution_count": 33,
     "metadata": {},
     "output_type": "execute_result"
    }
   ],
   "source": [
    "# Using head() method read first 5 records \n",
    "covid_data.head()"
   ]
  },
  {
   "cell_type": "code",
   "execution_count": 34,
   "id": "f7742c02",
   "metadata": {},
   "outputs": [
    {
     "data": {
      "text/html": [
       "<div>\n",
       "<style scoped>\n",
       "    .dataframe tbody tr th:only-of-type {\n",
       "        vertical-align: middle;\n",
       "    }\n",
       "\n",
       "    .dataframe tbody tr th {\n",
       "        vertical-align: top;\n",
       "    }\n",
       "\n",
       "    .dataframe thead th {\n",
       "        text-align: right;\n",
       "    }\n",
       "</style>\n",
       "<table border=\"1\" class=\"dataframe\">\n",
       "  <thead>\n",
       "    <tr style=\"text-align: right;\">\n",
       "      <th></th>\n",
       "      <th>Country</th>\n",
       "      <th>Total Cases</th>\n",
       "      <th>Total Deaths</th>\n",
       "      <th>Total Recovered</th>\n",
       "      <th>Active Cases</th>\n",
       "      <th>Total Cases/1M population</th>\n",
       "      <th>Deaths/1M population</th>\n",
       "      <th>Total Tests</th>\n",
       "      <th>Tests/1M population</th>\n",
       "      <th>Population</th>\n",
       "    </tr>\n",
       "  </thead>\n",
       "  <tbody>\n",
       "    <tr>\n",
       "      <th>201</th>\n",
       "      <td>Venezuela</td>\n",
       "      <td>384668</td>\n",
       "      <td>4634.0</td>\n",
       "      <td>364455.0</td>\n",
       "      <td>15579.0</td>\n",
       "      <td>13577</td>\n",
       "      <td>164.0</td>\n",
       "      <td>3359014.0</td>\n",
       "      <td>118555.0</td>\n",
       "      <td>28333033</td>\n",
       "    </tr>\n",
       "    <tr>\n",
       "      <th>202</th>\n",
       "      <td>Vietnam</td>\n",
       "      <td>843281</td>\n",
       "      <td>20670.0</td>\n",
       "      <td>784748.0</td>\n",
       "      <td>37863.0</td>\n",
       "      <td>8565</td>\n",
       "      <td>210.0</td>\n",
       "      <td>42517091.0</td>\n",
       "      <td>431840.0</td>\n",
       "      <td>98455768</td>\n",
       "    </tr>\n",
       "    <tr>\n",
       "      <th>203</th>\n",
       "      <td>Yemen</td>\n",
       "      <td>9402</td>\n",
       "      <td>1782.0</td>\n",
       "      <td>5930.0</td>\n",
       "      <td>1690.0</td>\n",
       "      <td>307</td>\n",
       "      <td>58.0</td>\n",
       "      <td>265253.0</td>\n",
       "      <td>8651.0</td>\n",
       "      <td>30662242</td>\n",
       "    </tr>\n",
       "    <tr>\n",
       "      <th>204</th>\n",
       "      <td>Zambia</td>\n",
       "      <td>209353</td>\n",
       "      <td>3654.0</td>\n",
       "      <td>205508.0</td>\n",
       "      <td>191.0</td>\n",
       "      <td>10996</td>\n",
       "      <td>192.0</td>\n",
       "      <td>2509600.0</td>\n",
       "      <td>131815.0</td>\n",
       "      <td>19038767</td>\n",
       "    </tr>\n",
       "    <tr>\n",
       "      <th>205</th>\n",
       "      <td>Zimbabwe</td>\n",
       "      <td>131875</td>\n",
       "      <td>4643.0</td>\n",
       "      <td>125479.0</td>\n",
       "      <td>1753.0</td>\n",
       "      <td>8711</td>\n",
       "      <td>307.0</td>\n",
       "      <td>1439811.0</td>\n",
       "      <td>95108.0</td>\n",
       "      <td>15138697</td>\n",
       "    </tr>\n",
       "  </tbody>\n",
       "</table>\n",
       "</div>"
      ],
      "text/plain": [
       "       Country  Total Cases  Total Deaths  Total Recovered  Active Cases  \\\n",
       "201  Venezuela       384668        4634.0         364455.0       15579.0   \n",
       "202    Vietnam       843281       20670.0         784748.0       37863.0   \n",
       "203      Yemen         9402        1782.0           5930.0        1690.0   \n",
       "204     Zambia       209353        3654.0         205508.0         191.0   \n",
       "205   Zimbabwe       131875        4643.0         125479.0        1753.0   \n",
       "\n",
       "     Total Cases/1M population  Deaths/1M population  Total Tests  \\\n",
       "201                      13577                 164.0    3359014.0   \n",
       "202                       8565                 210.0   42517091.0   \n",
       "203                        307                  58.0     265253.0   \n",
       "204                      10996                 192.0    2509600.0   \n",
       "205                       8711                 307.0    1439811.0   \n",
       "\n",
       "     Tests/1M population  Population  \n",
       "201             118555.0    28333033  \n",
       "202             431840.0    98455768  \n",
       "203               8651.0    30662242  \n",
       "204             131815.0    19038767  \n",
       "205              95108.0    15138697  "
      ]
     },
     "execution_count": 34,
     "metadata": {},
     "output_type": "execute_result"
    }
   ],
   "source": [
    "# Using tail() method read last 5 records \n",
    "covid_data.tail()"
   ]
  },
  {
   "cell_type": "code",
   "execution_count": 35,
   "id": "3a4c48f6",
   "metadata": {},
   "outputs": [
    {
     "data": {
      "text/plain": [
       "(206, 10)"
      ]
     },
     "execution_count": 35,
     "metadata": {},
     "output_type": "execute_result"
    }
   ],
   "source": [
    "# checking the shape of dataset  (display number of rows and columns)\n",
    "covid_data.shape"
   ]
  },
  {
   "cell_type": "code",
   "execution_count": 36,
   "id": "ee8ccbeb",
   "metadata": {},
   "outputs": [
    {
     "name": "stdout",
     "output_type": "stream",
     "text": [
      "<class 'pandas.core.frame.DataFrame'>\n",
      "RangeIndex: 206 entries, 0 to 205\n",
      "Data columns (total 10 columns):\n",
      " #   Column                     Non-Null Count  Dtype  \n",
      "---  ------                     --------------  -----  \n",
      " 0   Country                    206 non-null    object \n",
      " 1   Total Cases                206 non-null    int64  \n",
      " 2   Total Deaths               205 non-null    float64\n",
      " 3   Total Recovered            204 non-null    float64\n",
      " 4   Active Cases               204 non-null    float64\n",
      " 5   Total Cases/1M population  206 non-null    int64  \n",
      " 6   Deaths/1M population       205 non-null    float64\n",
      " 7   Total Tests                202 non-null    float64\n",
      " 8   Tests/1M population        202 non-null    float64\n",
      " 9   Population                 206 non-null    int64  \n",
      "dtypes: float64(6), int64(3), object(1)\n",
      "memory usage: 16.2+ KB\n"
     ]
    }
   ],
   "source": [
    "# shows detail  information about the dataset\n",
    "covid_data.info()"
   ]
  },
  {
   "cell_type": "code",
   "execution_count": 38,
   "id": "4994717f",
   "metadata": {},
   "outputs": [
    {
     "data": {
      "text/html": [
       "<div>\n",
       "<style scoped>\n",
       "    .dataframe tbody tr th:only-of-type {\n",
       "        vertical-align: middle;\n",
       "    }\n",
       "\n",
       "    .dataframe tbody tr th {\n",
       "        vertical-align: top;\n",
       "    }\n",
       "\n",
       "    .dataframe thead th {\n",
       "        text-align: right;\n",
       "    }\n",
       "</style>\n",
       "<table border=\"1\" class=\"dataframe\">\n",
       "  <thead>\n",
       "    <tr style=\"text-align: right;\">\n",
       "      <th></th>\n",
       "      <th>Total Cases</th>\n",
       "      <th>Total Deaths</th>\n",
       "      <th>Total Recovered</th>\n",
       "      <th>Active Cases</th>\n",
       "      <th>Total Cases/1M population</th>\n",
       "      <th>Deaths/1M population</th>\n",
       "      <th>Total Tests</th>\n",
       "      <th>Tests/1M population</th>\n",
       "      <th>Population</th>\n",
       "    </tr>\n",
       "  </thead>\n",
       "  <tbody>\n",
       "    <tr>\n",
       "      <th>count</th>\n",
       "      <td>206.00000</td>\n",
       "      <td>205.00000</td>\n",
       "      <td>204.00000</td>\n",
       "      <td>204.00000</td>\n",
       "      <td>206.00000</td>\n",
       "      <td>205.00000</td>\n",
       "      <td>202.00000</td>\n",
       "      <td>202.00000</td>\n",
       "      <td>206.00000</td>\n",
       "    </tr>\n",
       "    <tr>\n",
       "      <th>mean</th>\n",
       "      <td>1160432.58252</td>\n",
       "      <td>23771.81951</td>\n",
       "      <td>1051875.66176</td>\n",
       "      <td>86191.40686</td>\n",
       "      <td>53950.73301</td>\n",
       "      <td>865.55122</td>\n",
       "      <td>18774689.15347</td>\n",
       "      <td>1152444.73267</td>\n",
       "      <td>38120353.13592</td>\n",
       "    </tr>\n",
       "    <tr>\n",
       "      <th>std</th>\n",
       "      <td>4364536.68044</td>\n",
       "      <td>80671.35114</td>\n",
       "      <td>3812820.82071</td>\n",
       "      <td>693046.09697</td>\n",
       "      <td>49669.27484</td>\n",
       "      <td>916.53338</td>\n",
       "      <td>69401796.18303</td>\n",
       "      <td>2006809.98219</td>\n",
       "      <td>144765224.48180</td>\n",
       "    </tr>\n",
       "    <tr>\n",
       "      <th>min</th>\n",
       "      <td>623.00000</td>\n",
       "      <td>2.00000</td>\n",
       "      <td>55.00000</td>\n",
       "      <td>0.00000</td>\n",
       "      <td>67.00000</td>\n",
       "      <td>3.00000</td>\n",
       "      <td>14689.00000</td>\n",
       "      <td>3293.00000</td>\n",
       "      <td>56.00000</td>\n",
       "    </tr>\n",
       "    <tr>\n",
       "      <th>25%</th>\n",
       "      <td>16874.00000</td>\n",
       "      <td>205.00000</td>\n",
       "      <td>12012.25000</td>\n",
       "      <td>668.25000</td>\n",
       "      <td>6578.00000</td>\n",
       "      <td>106.00000</td>\n",
       "      <td>267362.75000</td>\n",
       "      <td>106497.25000</td>\n",
       "      <td>1232545.25000</td>\n",
       "    </tr>\n",
       "    <tr>\n",
       "      <th>50%</th>\n",
       "      <td>130322.00000</td>\n",
       "      <td>1992.00000</td>\n",
       "      <td>105774.00000</td>\n",
       "      <td>7027.00000</td>\n",
       "      <td>46260.00000</td>\n",
       "      <td>605.00000</td>\n",
       "      <td>1747174.00000</td>\n",
       "      <td>475244.50000</td>\n",
       "      <td>7492351.00000</td>\n",
       "    </tr>\n",
       "    <tr>\n",
       "      <th>75%</th>\n",
       "      <td>556698.50000</td>\n",
       "      <td>11106.00000</td>\n",
       "      <td>534861.50000</td>\n",
       "      <td>28680.00000</td>\n",
       "      <td>87109.25000</td>\n",
       "      <td>1439.00000</td>\n",
       "      <td>9741465.50000</td>\n",
       "      <td>1283685.75000</td>\n",
       "      <td>27342396.00000</td>\n",
       "    </tr>\n",
       "    <tr>\n",
       "      <th>max</th>\n",
       "      <td>45313353.00000</td>\n",
       "      <td>734611.00000</td>\n",
       "      <td>34797165.00000</td>\n",
       "      <td>9781577.00000</td>\n",
       "      <td>218292.00000</td>\n",
       "      <td>5951.00000</td>\n",
       "      <td>659963506.00000</td>\n",
       "      <td>14495272.00000</td>\n",
       "      <td>1439323776.00000</td>\n",
       "    </tr>\n",
       "  </tbody>\n",
       "</table>\n",
       "</div>"
      ],
      "text/plain": [
       "          Total Cases  Total Deaths Total Recovered   Active Cases  \\\n",
       "count       206.00000     205.00000       204.00000      204.00000   \n",
       "mean    1160432.58252   23771.81951   1051875.66176    86191.40686   \n",
       "std     4364536.68044   80671.35114   3812820.82071   693046.09697   \n",
       "min         623.00000       2.00000        55.00000        0.00000   \n",
       "25%       16874.00000     205.00000     12012.25000      668.25000   \n",
       "50%      130322.00000    1992.00000    105774.00000     7027.00000   \n",
       "75%      556698.50000   11106.00000    534861.50000    28680.00000   \n",
       "max    45313353.00000  734611.00000  34797165.00000  9781577.00000   \n",
       "\n",
       "      Total Cases/1M population Deaths/1M population      Total Tests  \\\n",
       "count                 206.00000            205.00000        202.00000   \n",
       "mean                53950.73301            865.55122   18774689.15347   \n",
       "std                 49669.27484            916.53338   69401796.18303   \n",
       "min                    67.00000              3.00000      14689.00000   \n",
       "25%                  6578.00000            106.00000     267362.75000   \n",
       "50%                 46260.00000            605.00000    1747174.00000   \n",
       "75%                 87109.25000           1439.00000    9741465.50000   \n",
       "max                218292.00000           5951.00000  659963506.00000   \n",
       "\n",
       "      Tests/1M population        Population  \n",
       "count           202.00000         206.00000  \n",
       "mean        1152444.73267    38120353.13592  \n",
       "std         2006809.98219   144765224.48180  \n",
       "min            3293.00000          56.00000  \n",
       "25%          106497.25000     1232545.25000  \n",
       "50%          475244.50000     7492351.00000  \n",
       "75%         1283685.75000    27342396.00000  \n",
       "max        14495272.00000  1439323776.00000  "
      ]
     },
     "execution_count": 38,
     "metadata": {},
     "output_type": "execute_result"
    }
   ],
   "source": [
    "# shows count ,mean,std,median min, 25% , 50% , 75% , max\n",
    "covid_data.describe().apply(lambda s:s.apply('{0:.5f}'.format))"
   ]
  },
  {
   "cell_type": "markdown",
   "id": "07a6ea3e",
   "metadata": {},
   "source": [
    "#### .iloc[Row:Column]"
   ]
  },
  {
   "cell_type": "code",
   "execution_count": 39,
   "id": "5d662c73",
   "metadata": {},
   "outputs": [
    {
     "data": {
      "text/html": [
       "<div>\n",
       "<style scoped>\n",
       "    .dataframe tbody tr th:only-of-type {\n",
       "        vertical-align: middle;\n",
       "    }\n",
       "\n",
       "    .dataframe tbody tr th {\n",
       "        vertical-align: top;\n",
       "    }\n",
       "\n",
       "    .dataframe thead th {\n",
       "        text-align: right;\n",
       "    }\n",
       "</style>\n",
       "<table border=\"1\" class=\"dataframe\">\n",
       "  <thead>\n",
       "    <tr style=\"text-align: right;\">\n",
       "      <th></th>\n",
       "      <th>Total Cases</th>\n",
       "      <th>Total Deaths</th>\n",
       "      <th>Total Recovered</th>\n",
       "    </tr>\n",
       "  </thead>\n",
       "  <tbody>\n",
       "    <tr>\n",
       "      <th>3</th>\n",
       "      <td>15307</td>\n",
       "      <td>130.0</td>\n",
       "      <td>15098.0</td>\n",
       "    </tr>\n",
       "    <tr>\n",
       "      <th>4</th>\n",
       "      <td>61580</td>\n",
       "      <td>1629.0</td>\n",
       "      <td>49977.0</td>\n",
       "    </tr>\n",
       "    <tr>\n",
       "      <th>5</th>\n",
       "      <td>3750</td>\n",
       "      <td>93.0</td>\n",
       "      <td>2667.0</td>\n",
       "    </tr>\n",
       "    <tr>\n",
       "      <th>6</th>\n",
       "      <td>5266275</td>\n",
       "      <td>115491.0</td>\n",
       "      <td>5133692.0</td>\n",
       "    </tr>\n",
       "    <tr>\n",
       "      <th>7</th>\n",
       "      <td>272957</td>\n",
       "      <td>5575.0</td>\n",
       "      <td>249158.0</td>\n",
       "    </tr>\n",
       "    <tr>\n",
       "      <th>8</th>\n",
       "      <td>15645</td>\n",
       "      <td>170.0</td>\n",
       "      <td>15324.0</td>\n",
       "    </tr>\n",
       "    <tr>\n",
       "      <th>9</th>\n",
       "      <td>131415</td>\n",
       "      <td>1461.0</td>\n",
       "      <td>96234.0</td>\n",
       "    </tr>\n",
       "  </tbody>\n",
       "</table>\n",
       "</div>"
      ],
      "text/plain": [
       "   Total Cases  Total Deaths  Total Recovered\n",
       "3        15307         130.0          15098.0\n",
       "4        61580        1629.0          49977.0\n",
       "5         3750          93.0           2667.0\n",
       "6      5266275      115491.0        5133692.0\n",
       "7       272957        5575.0         249158.0\n",
       "8        15645         170.0          15324.0\n",
       "9       131415        1461.0          96234.0"
      ]
     },
     "execution_count": 39,
     "metadata": {},
     "output_type": "execute_result"
    }
   ],
   "source": [
    "covid_data.iloc[3:10,1:4]"
   ]
  },
  {
   "cell_type": "code",
   "execution_count": 40,
   "id": "c39c2a04",
   "metadata": {},
   "outputs": [
    {
     "data": {
      "text/plain": [
       "1    175163\n",
       "2    204695\n",
       "3     15307\n",
       "4     61580\n",
       "5      3750\n",
       "Name: Total Cases, dtype: int64"
      ]
     },
     "execution_count": 40,
     "metadata": {},
     "output_type": "execute_result"
    }
   ],
   "source": [
    "# .loc[] method \n",
    "# major differnce is \n",
    "# 1.Instead of column index we pass column name \n",
    "# 2.In print record from end to end \n",
    "\n",
    "#iloc[Row info,(column name....)]\n",
    "covid_data.loc[1:5,(\"Total Cases\")] "
   ]
  },
  {
   "cell_type": "code",
   "execution_count": 43,
   "id": "9ed7a74e",
   "metadata": {},
   "outputs": [
    {
     "data": {
      "text/html": [
       "<div>\n",
       "<style scoped>\n",
       "    .dataframe tbody tr th:only-of-type {\n",
       "        vertical-align: middle;\n",
       "    }\n",
       "\n",
       "    .dataframe tbody tr th {\n",
       "        vertical-align: top;\n",
       "    }\n",
       "\n",
       "    .dataframe thead th {\n",
       "        text-align: right;\n",
       "    }\n",
       "</style>\n",
       "<table border=\"1\" class=\"dataframe\">\n",
       "  <thead>\n",
       "    <tr style=\"text-align: right;\">\n",
       "      <th></th>\n",
       "      <th>Country</th>\n",
       "      <th>Total Deaths</th>\n",
       "      <th>Total Recovered</th>\n",
       "      <th>Active Cases</th>\n",
       "      <th>Total Cases/1M population</th>\n",
       "      <th>Deaths/1M population</th>\n",
       "      <th>Total Tests</th>\n",
       "      <th>Tests/1M population</th>\n",
       "      <th>Population</th>\n",
       "    </tr>\n",
       "  </thead>\n",
       "  <tbody>\n",
       "    <tr>\n",
       "      <th>0</th>\n",
       "      <td>Afghanistan</td>\n",
       "      <td>7228.0</td>\n",
       "      <td>126459.0</td>\n",
       "      <td>21853.0</td>\n",
       "      <td>3884</td>\n",
       "      <td>180.0</td>\n",
       "      <td>764934.0</td>\n",
       "      <td>19102.0</td>\n",
       "      <td>40044373</td>\n",
       "    </tr>\n",
       "    <tr>\n",
       "      <th>1</th>\n",
       "      <td>Albania</td>\n",
       "      <td>2777.0</td>\n",
       "      <td>165434.0</td>\n",
       "      <td>6952.0</td>\n",
       "      <td>60952</td>\n",
       "      <td>966.0</td>\n",
       "      <td>1240204.0</td>\n",
       "      <td>431558.0</td>\n",
       "      <td>2873784</td>\n",
       "    </tr>\n",
       "    <tr>\n",
       "      <th>2</th>\n",
       "      <td>Algeria</td>\n",
       "      <td>5855.0</td>\n",
       "      <td>140319.0</td>\n",
       "      <td>58521.0</td>\n",
       "      <td>4563</td>\n",
       "      <td>131.0</td>\n",
       "      <td>230861.0</td>\n",
       "      <td>5146.0</td>\n",
       "      <td>44859760</td>\n",
       "    </tr>\n",
       "    <tr>\n",
       "      <th>3</th>\n",
       "      <td>Andorra</td>\n",
       "      <td>130.0</td>\n",
       "      <td>15098.0</td>\n",
       "      <td>79.0</td>\n",
       "      <td>197706</td>\n",
       "      <td>1679.0</td>\n",
       "      <td>193595.0</td>\n",
       "      <td>2500484.0</td>\n",
       "      <td>77423</td>\n",
       "    </tr>\n",
       "    <tr>\n",
       "      <th>4</th>\n",
       "      <td>Angola</td>\n",
       "      <td>1629.0</td>\n",
       "      <td>49977.0</td>\n",
       "      <td>9974.0</td>\n",
       "      <td>1802</td>\n",
       "      <td>48.0</td>\n",
       "      <td>1043451.0</td>\n",
       "      <td>30541.0</td>\n",
       "      <td>34165887</td>\n",
       "    </tr>\n",
       "    <tr>\n",
       "      <th>...</th>\n",
       "      <td>...</td>\n",
       "      <td>...</td>\n",
       "      <td>...</td>\n",
       "      <td>...</td>\n",
       "      <td>...</td>\n",
       "      <td>...</td>\n",
       "      <td>...</td>\n",
       "      <td>...</td>\n",
       "      <td>...</td>\n",
       "    </tr>\n",
       "    <tr>\n",
       "      <th>201</th>\n",
       "      <td>Venezuela</td>\n",
       "      <td>4634.0</td>\n",
       "      <td>364455.0</td>\n",
       "      <td>15579.0</td>\n",
       "      <td>13577</td>\n",
       "      <td>164.0</td>\n",
       "      <td>3359014.0</td>\n",
       "      <td>118555.0</td>\n",
       "      <td>28333033</td>\n",
       "    </tr>\n",
       "    <tr>\n",
       "      <th>202</th>\n",
       "      <td>Vietnam</td>\n",
       "      <td>20670.0</td>\n",
       "      <td>784748.0</td>\n",
       "      <td>37863.0</td>\n",
       "      <td>8565</td>\n",
       "      <td>210.0</td>\n",
       "      <td>42517091.0</td>\n",
       "      <td>431840.0</td>\n",
       "      <td>98455768</td>\n",
       "    </tr>\n",
       "    <tr>\n",
       "      <th>203</th>\n",
       "      <td>Yemen</td>\n",
       "      <td>1782.0</td>\n",
       "      <td>5930.0</td>\n",
       "      <td>1690.0</td>\n",
       "      <td>307</td>\n",
       "      <td>58.0</td>\n",
       "      <td>265253.0</td>\n",
       "      <td>8651.0</td>\n",
       "      <td>30662242</td>\n",
       "    </tr>\n",
       "    <tr>\n",
       "      <th>204</th>\n",
       "      <td>Zambia</td>\n",
       "      <td>3654.0</td>\n",
       "      <td>205508.0</td>\n",
       "      <td>191.0</td>\n",
       "      <td>10996</td>\n",
       "      <td>192.0</td>\n",
       "      <td>2509600.0</td>\n",
       "      <td>131815.0</td>\n",
       "      <td>19038767</td>\n",
       "    </tr>\n",
       "    <tr>\n",
       "      <th>205</th>\n",
       "      <td>Zimbabwe</td>\n",
       "      <td>4643.0</td>\n",
       "      <td>125479.0</td>\n",
       "      <td>1753.0</td>\n",
       "      <td>8711</td>\n",
       "      <td>307.0</td>\n",
       "      <td>1439811.0</td>\n",
       "      <td>95108.0</td>\n",
       "      <td>15138697</td>\n",
       "    </tr>\n",
       "  </tbody>\n",
       "</table>\n",
       "<p>206 rows × 9 columns</p>\n",
       "</div>"
      ],
      "text/plain": [
       "         Country  Total Deaths  Total Recovered  Active Cases  \\\n",
       "0    Afghanistan        7228.0         126459.0       21853.0   \n",
       "1        Albania        2777.0         165434.0        6952.0   \n",
       "2        Algeria        5855.0         140319.0       58521.0   \n",
       "3        Andorra         130.0          15098.0          79.0   \n",
       "4         Angola        1629.0          49977.0        9974.0   \n",
       "..           ...           ...              ...           ...   \n",
       "201    Venezuela        4634.0         364455.0       15579.0   \n",
       "202      Vietnam       20670.0         784748.0       37863.0   \n",
       "203        Yemen        1782.0           5930.0        1690.0   \n",
       "204       Zambia        3654.0         205508.0         191.0   \n",
       "205     Zimbabwe        4643.0         125479.0        1753.0   \n",
       "\n",
       "     Total Cases/1M population  Deaths/1M population  Total Tests  \\\n",
       "0                         3884                 180.0     764934.0   \n",
       "1                        60952                 966.0    1240204.0   \n",
       "2                         4563                 131.0     230861.0   \n",
       "3                       197706                1679.0     193595.0   \n",
       "4                         1802                  48.0    1043451.0   \n",
       "..                         ...                   ...          ...   \n",
       "201                      13577                 164.0    3359014.0   \n",
       "202                       8565                 210.0   42517091.0   \n",
       "203                        307                  58.0     265253.0   \n",
       "204                      10996                 192.0    2509600.0   \n",
       "205                       8711                 307.0    1439811.0   \n",
       "\n",
       "     Tests/1M population  Population  \n",
       "0                19102.0    40044373  \n",
       "1               431558.0     2873784  \n",
       "2                 5146.0    44859760  \n",
       "3              2500484.0       77423  \n",
       "4                30541.0    34165887  \n",
       "..                   ...         ...  \n",
       "201             118555.0    28333033  \n",
       "202             431840.0    98455768  \n",
       "203               8651.0    30662242  \n",
       "204             131815.0    19038767  \n",
       "205              95108.0    15138697  \n",
       "\n",
       "[206 rows x 9 columns]"
      ]
     },
     "execution_count": 43,
     "metadata": {},
     "output_type": "execute_result"
    }
   ],
   "source": [
    "# Dropping columns \n",
    "l1=covid_data.drop(\"Total Cases\",axis=1)\n",
    "l1"
   ]
  },
  {
   "cell_type": "code",
   "execution_count": 44,
   "id": "376067be",
   "metadata": {},
   "outputs": [
    {
     "data": {
      "text/html": [
       "<div>\n",
       "<style scoped>\n",
       "    .dataframe tbody tr th:only-of-type {\n",
       "        vertical-align: middle;\n",
       "    }\n",
       "\n",
       "    .dataframe tbody tr th {\n",
       "        vertical-align: top;\n",
       "    }\n",
       "\n",
       "    .dataframe thead th {\n",
       "        text-align: right;\n",
       "    }\n",
       "</style>\n",
       "<table border=\"1\" class=\"dataframe\">\n",
       "  <thead>\n",
       "    <tr style=\"text-align: right;\">\n",
       "      <th></th>\n",
       "      <th>Country</th>\n",
       "      <th>Total Cases</th>\n",
       "      <th>Total Deaths</th>\n",
       "      <th>Total Recovered</th>\n",
       "      <th>Active Cases</th>\n",
       "      <th>Total Cases/1M population</th>\n",
       "      <th>Deaths/1M population</th>\n",
       "      <th>Total Tests</th>\n",
       "      <th>Tests/1M population</th>\n",
       "      <th>Population</th>\n",
       "    </tr>\n",
       "  </thead>\n",
       "  <tbody>\n",
       "    <tr>\n",
       "      <th>0</th>\n",
       "      <td>Afghanistan</td>\n",
       "      <td>155540</td>\n",
       "      <td>7228.0</td>\n",
       "      <td>126459.0</td>\n",
       "      <td>21853.0</td>\n",
       "      <td>3884</td>\n",
       "      <td>180.0</td>\n",
       "      <td>764934.0</td>\n",
       "      <td>19102.0</td>\n",
       "      <td>40044373</td>\n",
       "    </tr>\n",
       "    <tr>\n",
       "      <th>1</th>\n",
       "      <td>Albania</td>\n",
       "      <td>175163</td>\n",
       "      <td>2777.0</td>\n",
       "      <td>165434.0</td>\n",
       "      <td>6952.0</td>\n",
       "      <td>60952</td>\n",
       "      <td>966.0</td>\n",
       "      <td>1240204.0</td>\n",
       "      <td>431558.0</td>\n",
       "      <td>2873784</td>\n",
       "    </tr>\n",
       "    <tr>\n",
       "      <th>2</th>\n",
       "      <td>Algeria</td>\n",
       "      <td>204695</td>\n",
       "      <td>5855.0</td>\n",
       "      <td>140319.0</td>\n",
       "      <td>58521.0</td>\n",
       "      <td>4563</td>\n",
       "      <td>131.0</td>\n",
       "      <td>230861.0</td>\n",
       "      <td>5146.0</td>\n",
       "      <td>44859760</td>\n",
       "    </tr>\n",
       "    <tr>\n",
       "      <th>5</th>\n",
       "      <td>Antigua and Barbuda</td>\n",
       "      <td>3750</td>\n",
       "      <td>93.0</td>\n",
       "      <td>2667.0</td>\n",
       "      <td>990.0</td>\n",
       "      <td>37893</td>\n",
       "      <td>940.0</td>\n",
       "      <td>17674.0</td>\n",
       "      <td>178592.0</td>\n",
       "      <td>98963</td>\n",
       "    </tr>\n",
       "    <tr>\n",
       "      <th>6</th>\n",
       "      <td>Argentina</td>\n",
       "      <td>5266275</td>\n",
       "      <td>115491.0</td>\n",
       "      <td>5133692.0</td>\n",
       "      <td>17092.0</td>\n",
       "      <td>115173</td>\n",
       "      <td>2526.0</td>\n",
       "      <td>24252818.0</td>\n",
       "      <td>530409.0</td>\n",
       "      <td>45724788</td>\n",
       "    </tr>\n",
       "    <tr>\n",
       "      <th>...</th>\n",
       "      <td>...</td>\n",
       "      <td>...</td>\n",
       "      <td>...</td>\n",
       "      <td>...</td>\n",
       "      <td>...</td>\n",
       "      <td>...</td>\n",
       "      <td>...</td>\n",
       "      <td>...</td>\n",
       "      <td>...</td>\n",
       "      <td>...</td>\n",
       "    </tr>\n",
       "    <tr>\n",
       "      <th>201</th>\n",
       "      <td>Venezuela</td>\n",
       "      <td>384668</td>\n",
       "      <td>4634.0</td>\n",
       "      <td>364455.0</td>\n",
       "      <td>15579.0</td>\n",
       "      <td>13577</td>\n",
       "      <td>164.0</td>\n",
       "      <td>3359014.0</td>\n",
       "      <td>118555.0</td>\n",
       "      <td>28333033</td>\n",
       "    </tr>\n",
       "    <tr>\n",
       "      <th>202</th>\n",
       "      <td>Vietnam</td>\n",
       "      <td>843281</td>\n",
       "      <td>20670.0</td>\n",
       "      <td>784748.0</td>\n",
       "      <td>37863.0</td>\n",
       "      <td>8565</td>\n",
       "      <td>210.0</td>\n",
       "      <td>42517091.0</td>\n",
       "      <td>431840.0</td>\n",
       "      <td>98455768</td>\n",
       "    </tr>\n",
       "    <tr>\n",
       "      <th>203</th>\n",
       "      <td>Yemen</td>\n",
       "      <td>9402</td>\n",
       "      <td>1782.0</td>\n",
       "      <td>5930.0</td>\n",
       "      <td>1690.0</td>\n",
       "      <td>307</td>\n",
       "      <td>58.0</td>\n",
       "      <td>265253.0</td>\n",
       "      <td>8651.0</td>\n",
       "      <td>30662242</td>\n",
       "    </tr>\n",
       "    <tr>\n",
       "      <th>204</th>\n",
       "      <td>Zambia</td>\n",
       "      <td>209353</td>\n",
       "      <td>3654.0</td>\n",
       "      <td>205508.0</td>\n",
       "      <td>191.0</td>\n",
       "      <td>10996</td>\n",
       "      <td>192.0</td>\n",
       "      <td>2509600.0</td>\n",
       "      <td>131815.0</td>\n",
       "      <td>19038767</td>\n",
       "    </tr>\n",
       "    <tr>\n",
       "      <th>205</th>\n",
       "      <td>Zimbabwe</td>\n",
       "      <td>131875</td>\n",
       "      <td>4643.0</td>\n",
       "      <td>125479.0</td>\n",
       "      <td>1753.0</td>\n",
       "      <td>8711</td>\n",
       "      <td>307.0</td>\n",
       "      <td>1439811.0</td>\n",
       "      <td>95108.0</td>\n",
       "      <td>15138697</td>\n",
       "    </tr>\n",
       "  </tbody>\n",
       "</table>\n",
       "<p>204 rows × 10 columns</p>\n",
       "</div>"
      ],
      "text/plain": [
       "                 Country  Total Cases  Total Deaths  Total Recovered  \\\n",
       "0            Afghanistan       155540        7228.0         126459.0   \n",
       "1                Albania       175163        2777.0         165434.0   \n",
       "2                Algeria       204695        5855.0         140319.0   \n",
       "5    Antigua and Barbuda         3750          93.0           2667.0   \n",
       "6              Argentina      5266275      115491.0        5133692.0   \n",
       "..                   ...          ...           ...              ...   \n",
       "201            Venezuela       384668        4634.0         364455.0   \n",
       "202              Vietnam       843281       20670.0         784748.0   \n",
       "203                Yemen         9402        1782.0           5930.0   \n",
       "204               Zambia       209353        3654.0         205508.0   \n",
       "205             Zimbabwe       131875        4643.0         125479.0   \n",
       "\n",
       "     Active Cases  Total Cases/1M population  Deaths/1M population  \\\n",
       "0         21853.0                       3884                 180.0   \n",
       "1          6952.0                      60952                 966.0   \n",
       "2         58521.0                       4563                 131.0   \n",
       "5           990.0                      37893                 940.0   \n",
       "6         17092.0                     115173                2526.0   \n",
       "..            ...                        ...                   ...   \n",
       "201       15579.0                      13577                 164.0   \n",
       "202       37863.0                       8565                 210.0   \n",
       "203        1690.0                        307                  58.0   \n",
       "204         191.0                      10996                 192.0   \n",
       "205        1753.0                       8711                 307.0   \n",
       "\n",
       "     Total Tests  Tests/1M population  Population  \n",
       "0       764934.0              19102.0    40044373  \n",
       "1      1240204.0             431558.0     2873784  \n",
       "2       230861.0               5146.0    44859760  \n",
       "5        17674.0             178592.0       98963  \n",
       "6     24252818.0             530409.0    45724788  \n",
       "..           ...                  ...         ...  \n",
       "201    3359014.0             118555.0    28333033  \n",
       "202   42517091.0             431840.0    98455768  \n",
       "203     265253.0               8651.0    30662242  \n",
       "204    2509600.0             131815.0    19038767  \n",
       "205    1439811.0              95108.0    15138697  \n",
       "\n",
       "[204 rows x 10 columns]"
      ]
     },
     "execution_count": 44,
     "metadata": {},
     "output_type": "execute_result"
    }
   ],
   "source": [
    "# Dropping Rows\n",
    "l2=covid_data.drop([3,4],axis=0)\n",
    "l2"
   ]
  },
  {
   "cell_type": "markdown",
   "id": "21e87595",
   "metadata": {},
   "source": [
    "### More Pandas Functions "
   ]
  },
  {
   "cell_type": "markdown",
   "id": "b1d3514a",
   "metadata": {},
   "source": [
    "#### Mean "
   ]
  },
  {
   "cell_type": "code",
   "execution_count": 45,
   "id": "3f20e79d",
   "metadata": {},
   "outputs": [
    {
     "data": {
      "text/plain": [
       "Total Cases                  1.160433e+06\n",
       "Total Deaths                 2.377182e+04\n",
       "Total Recovered              1.051876e+06\n",
       "Active Cases                 8.619141e+04\n",
       "Total Cases/1M population    5.395073e+04\n",
       "Deaths/1M population         8.655512e+02\n",
       "Total Tests                  1.877469e+07\n",
       "Tests/1M population          1.152445e+06\n",
       "Population                   3.812035e+07\n",
       "dtype: float64"
      ]
     },
     "execution_count": 45,
     "metadata": {},
     "output_type": "execute_result"
    }
   ],
   "source": [
    "covid_data.mean()"
   ]
  },
  {
   "cell_type": "markdown",
   "id": "94d9bc26",
   "metadata": {},
   "source": [
    "#### Median"
   ]
  },
  {
   "cell_type": "code",
   "execution_count": 46,
   "id": "50fa4bc2",
   "metadata": {},
   "outputs": [
    {
     "data": {
      "text/plain": [
       "Total Cases                   130322.0\n",
       "Total Deaths                    1992.0\n",
       "Total Recovered               105774.0\n",
       "Active Cases                    7027.0\n",
       "Total Cases/1M population      46260.0\n",
       "Deaths/1M population             605.0\n",
       "Total Tests                  1747174.0\n",
       "Tests/1M population           475244.5\n",
       "Population                   7492351.0\n",
       "dtype: float64"
      ]
     },
     "execution_count": 46,
     "metadata": {},
     "output_type": "execute_result"
    }
   ],
   "source": [
    "covid_data.median()"
   ]
  },
  {
   "cell_type": "markdown",
   "id": "45ed6b04",
   "metadata": {},
   "source": [
    "#### Maximum value"
   ]
  },
  {
   "cell_type": "code",
   "execution_count": 48,
   "id": "b705429a",
   "metadata": {},
   "outputs": [
    {
     "data": {
      "text/plain": [
       "Country                         Zimbabwe\n",
       "Total Cases                     45313353\n",
       "Total Deaths                    734611.0\n",
       "Total Recovered               34797165.0\n",
       "Active Cases                   9781577.0\n",
       "Total Cases/1M population         218292\n",
       "Deaths/1M population              5951.0\n",
       "Total Tests                  659963506.0\n",
       "Tests/1M population           14495272.0\n",
       "Population                    1439323776\n",
       "dtype: object"
      ]
     },
     "execution_count": 48,
     "metadata": {},
     "output_type": "execute_result"
    }
   ],
   "source": [
    "covid_data.max()"
   ]
  },
  {
   "cell_type": "markdown",
   "id": "35feccd6",
   "metadata": {},
   "source": [
    "#### Minimum value "
   ]
  },
  {
   "cell_type": "code",
   "execution_count": 49,
   "id": "5c6778ba",
   "metadata": {},
   "outputs": [
    {
     "data": {
      "text/plain": [
       "Country                      Afghanistan\n",
       "Total Cases                          623\n",
       "Total Deaths                         2.0\n",
       "Total Recovered                     55.0\n",
       "Active Cases                         0.0\n",
       "Total Cases/1M population             67\n",
       "Deaths/1M population                 3.0\n",
       "Total Tests                      14689.0\n",
       "Tests/1M population               3293.0\n",
       "Population                            56\n",
       "dtype: object"
      ]
     },
     "execution_count": 49,
     "metadata": {},
     "output_type": "execute_result"
    }
   ],
   "source": [
    "covid_data.min()"
   ]
  },
  {
   "cell_type": "markdown",
   "id": "c132f04c",
   "metadata": {},
   "source": [
    " ### More Pandas Fuctions "
   ]
  },
  {
   "cell_type": "code",
   "execution_count": 50,
   "id": "88805834",
   "metadata": {},
   "outputs": [],
   "source": [
    "def half(s):\n",
    "    return s*0.5"
   ]
  },
  {
   "cell_type": "code",
   "execution_count": 51,
   "id": "4daf1386",
   "metadata": {},
   "outputs": [
    {
     "data": {
      "text/html": [
       "<div>\n",
       "<style scoped>\n",
       "    .dataframe tbody tr th:only-of-type {\n",
       "        vertical-align: middle;\n",
       "    }\n",
       "\n",
       "    .dataframe tbody tr th {\n",
       "        vertical-align: top;\n",
       "    }\n",
       "\n",
       "    .dataframe thead th {\n",
       "        text-align: right;\n",
       "    }\n",
       "</style>\n",
       "<table border=\"1\" class=\"dataframe\">\n",
       "  <thead>\n",
       "    <tr style=\"text-align: right;\">\n",
       "      <th></th>\n",
       "      <th>Total Cases</th>\n",
       "    </tr>\n",
       "  </thead>\n",
       "  <tbody>\n",
       "    <tr>\n",
       "      <th>0</th>\n",
       "      <td>77770.0</td>\n",
       "    </tr>\n",
       "    <tr>\n",
       "      <th>1</th>\n",
       "      <td>87581.5</td>\n",
       "    </tr>\n",
       "    <tr>\n",
       "      <th>2</th>\n",
       "      <td>102347.5</td>\n",
       "    </tr>\n",
       "    <tr>\n",
       "      <th>3</th>\n",
       "      <td>7653.5</td>\n",
       "    </tr>\n",
       "    <tr>\n",
       "      <th>4</th>\n",
       "      <td>30790.0</td>\n",
       "    </tr>\n",
       "    <tr>\n",
       "      <th>...</th>\n",
       "      <td>...</td>\n",
       "    </tr>\n",
       "    <tr>\n",
       "      <th>201</th>\n",
       "      <td>192334.0</td>\n",
       "    </tr>\n",
       "    <tr>\n",
       "      <th>202</th>\n",
       "      <td>421640.5</td>\n",
       "    </tr>\n",
       "    <tr>\n",
       "      <th>203</th>\n",
       "      <td>4701.0</td>\n",
       "    </tr>\n",
       "    <tr>\n",
       "      <th>204</th>\n",
       "      <td>104676.5</td>\n",
       "    </tr>\n",
       "    <tr>\n",
       "      <th>205</th>\n",
       "      <td>65937.5</td>\n",
       "    </tr>\n",
       "  </tbody>\n",
       "</table>\n",
       "<p>206 rows × 1 columns</p>\n",
       "</div>"
      ],
      "text/plain": [
       "     Total Cases\n",
       "0        77770.0\n",
       "1        87581.5\n",
       "2       102347.5\n",
       "3         7653.5\n",
       "4        30790.0\n",
       "..           ...\n",
       "201     192334.0\n",
       "202     421640.5\n",
       "203       4701.0\n",
       "204     104676.5\n",
       "205      65937.5\n",
       "\n",
       "[206 rows x 1 columns]"
      ]
     },
     "execution_count": 51,
     "metadata": {},
     "output_type": "execute_result"
    }
   ],
   "source": [
    "covid_data[[\"Total Cases\"]].apply(half)\n"
   ]
  },
  {
   "cell_type": "code",
   "execution_count": 52,
   "id": "79b07a5e",
   "metadata": {},
   "outputs": [
    {
     "data": {
      "text/plain": [
       "Georgia           1\n",
       "Egypt             1\n",
       "Mali              1\n",
       "Senegal           1\n",
       "Maldives          1\n",
       "                 ..\n",
       "Bahamas           1\n",
       "Botswana          1\n",
       "Cayman Islands    1\n",
       "Gabon             1\n",
       "Cuba              1\n",
       "Name: Country, Length: 206, dtype: int64"
      ]
     },
     "execution_count": 52,
     "metadata": {},
     "output_type": "execute_result"
    }
   ],
   "source": [
    "covid_data['Country'].value_counts()"
   ]
  },
  {
   "cell_type": "code",
   "execution_count": 53,
   "id": "f52b8f49",
   "metadata": {},
   "outputs": [
    {
     "data": {
      "text/html": [
       "<div>\n",
       "<style scoped>\n",
       "    .dataframe tbody tr th:only-of-type {\n",
       "        vertical-align: middle;\n",
       "    }\n",
       "\n",
       "    .dataframe tbody tr th {\n",
       "        vertical-align: top;\n",
       "    }\n",
       "\n",
       "    .dataframe thead th {\n",
       "        text-align: right;\n",
       "    }\n",
       "</style>\n",
       "<table border=\"1\" class=\"dataframe\">\n",
       "  <thead>\n",
       "    <tr style=\"text-align: right;\">\n",
       "      <th></th>\n",
       "      <th>Country</th>\n",
       "      <th>Total Cases</th>\n",
       "      <th>Total Deaths</th>\n",
       "      <th>Total Recovered</th>\n",
       "      <th>Active Cases</th>\n",
       "      <th>Total Cases/1M population</th>\n",
       "      <th>Deaths/1M population</th>\n",
       "      <th>Total Tests</th>\n",
       "      <th>Tests/1M population</th>\n",
       "      <th>Population</th>\n",
       "    </tr>\n",
       "  </thead>\n",
       "  <tbody>\n",
       "    <tr>\n",
       "      <th>77</th>\n",
       "      <td>Greenland</td>\n",
       "      <td>623</td>\n",
       "      <td>NaN</td>\n",
       "      <td>573.0</td>\n",
       "      <td>50.0</td>\n",
       "      <td>10950</td>\n",
       "      <td>NaN</td>\n",
       "      <td>79312.0</td>\n",
       "      <td>1393982.0</td>\n",
       "      <td>56</td>\n",
       "    </tr>\n",
       "    <tr>\n",
       "      <th>37</th>\n",
       "      <td>Cayman Islands</td>\n",
       "      <td>983</td>\n",
       "      <td>2.0</td>\n",
       "      <td>814.0</td>\n",
       "      <td>167.0</td>\n",
       "      <td>14736</td>\n",
       "      <td>30.0</td>\n",
       "      <td>136206.0</td>\n",
       "      <td>2041885.0</td>\n",
       "      <td>66706</td>\n",
       "    </tr>\n",
       "    <tr>\n",
       "      <th>64</th>\n",
       "      <td>Faeroe Islands</td>\n",
       "      <td>1301</td>\n",
       "      <td>2.0</td>\n",
       "      <td>1185.0</td>\n",
       "      <td>114.0</td>\n",
       "      <td>26497</td>\n",
       "      <td>41.0</td>\n",
       "      <td>447000.0</td>\n",
       "      <td>9103870.0</td>\n",
       "      <td>49100</td>\n",
       "    </tr>\n",
       "    <tr>\n",
       "      <th>177</th>\n",
       "      <td>St. Barth</td>\n",
       "      <td>1587</td>\n",
       "      <td>6.0</td>\n",
       "      <td>462.0</td>\n",
       "      <td>1119.0</td>\n",
       "      <td>160061</td>\n",
       "      <td>605.0</td>\n",
       "      <td>38369.0</td>\n",
       "      <td>3869793.0</td>\n",
       "      <td>9915</td>\n",
       "    </tr>\n",
       "    <tr>\n",
       "      <th>36</th>\n",
       "      <td>Caribbean Netherlands</td>\n",
       "      <td>2257</td>\n",
       "      <td>19.0</td>\n",
       "      <td>2064.0</td>\n",
       "      <td>174.0</td>\n",
       "      <td>85061</td>\n",
       "      <td>716.0</td>\n",
       "      <td>25579.0</td>\n",
       "      <td>964008.0</td>\n",
       "      <td>26534</td>\n",
       "    </tr>\n",
       "    <tr>\n",
       "      <th>...</th>\n",
       "      <td>...</td>\n",
       "      <td>...</td>\n",
       "      <td>...</td>\n",
       "      <td>...</td>\n",
       "      <td>...</td>\n",
       "      <td>...</td>\n",
       "      <td>...</td>\n",
       "      <td>...</td>\n",
       "      <td>...</td>\n",
       "      <td>...</td>\n",
       "    </tr>\n",
       "    <tr>\n",
       "      <th>155</th>\n",
       "      <td>Russia</td>\n",
       "      <td>7804774</td>\n",
       "      <td>217372.0</td>\n",
       "      <td>6873579.0</td>\n",
       "      <td>713823.0</td>\n",
       "      <td>53452</td>\n",
       "      <td>1489.0</td>\n",
       "      <td>197200000.0</td>\n",
       "      <td>1350552.0</td>\n",
       "      <td>146014362</td>\n",
       "    </tr>\n",
       "    <tr>\n",
       "      <th>196</th>\n",
       "      <td>UK</td>\n",
       "      <td>8193769</td>\n",
       "      <td>137763.0</td>\n",
       "      <td>6686695.0</td>\n",
       "      <td>1369311.0</td>\n",
       "      <td>119895</td>\n",
       "      <td>2016.0</td>\n",
       "      <td>314239784.0</td>\n",
       "      <td>4598108.0</td>\n",
       "      <td>68341111</td>\n",
       "    </tr>\n",
       "    <tr>\n",
       "      <th>25</th>\n",
       "      <td>Brazil</td>\n",
       "      <td>21582738</td>\n",
       "      <td>601266.0</td>\n",
       "      <td>20694669.0</td>\n",
       "      <td>286803.0</td>\n",
       "      <td>100625</td>\n",
       "      <td>2803.0</td>\n",
       "      <td>63776166.0</td>\n",
       "      <td>297342.0</td>\n",
       "      <td>214487273</td>\n",
       "    </tr>\n",
       "    <tr>\n",
       "      <th>89</th>\n",
       "      <td>India</td>\n",
       "      <td>33985920</td>\n",
       "      <td>450991.0</td>\n",
       "      <td>33320057.0</td>\n",
       "      <td>214872.0</td>\n",
       "      <td>24322</td>\n",
       "      <td>323.0</td>\n",
       "      <td>585038043.0</td>\n",
       "      <td>418689.0</td>\n",
       "      <td>1397309368</td>\n",
       "    </tr>\n",
       "    <tr>\n",
       "      <th>199</th>\n",
       "      <td>USA</td>\n",
       "      <td>45313353</td>\n",
       "      <td>734611.0</td>\n",
       "      <td>34797165.0</td>\n",
       "      <td>9781577.0</td>\n",
       "      <td>135880</td>\n",
       "      <td>2203.0</td>\n",
       "      <td>659963506.0</td>\n",
       "      <td>1979022.0</td>\n",
       "      <td>333479557</td>\n",
       "    </tr>\n",
       "  </tbody>\n",
       "</table>\n",
       "<p>206 rows × 10 columns</p>\n",
       "</div>"
      ],
      "text/plain": [
       "                   Country  Total Cases  Total Deaths  Total Recovered  \\\n",
       "77               Greenland          623           NaN            573.0   \n",
       "37          Cayman Islands          983           2.0            814.0   \n",
       "64          Faeroe Islands         1301           2.0           1185.0   \n",
       "177              St. Barth         1587           6.0            462.0   \n",
       "36   Caribbean Netherlands         2257          19.0           2064.0   \n",
       "..                     ...          ...           ...              ...   \n",
       "155                 Russia      7804774      217372.0        6873579.0   \n",
       "196                     UK      8193769      137763.0        6686695.0   \n",
       "25                  Brazil     21582738      601266.0       20694669.0   \n",
       "89                   India     33985920      450991.0       33320057.0   \n",
       "199                    USA     45313353      734611.0       34797165.0   \n",
       "\n",
       "     Active Cases  Total Cases/1M population  Deaths/1M population  \\\n",
       "77           50.0                      10950                   NaN   \n",
       "37          167.0                      14736                  30.0   \n",
       "64          114.0                      26497                  41.0   \n",
       "177        1119.0                     160061                 605.0   \n",
       "36          174.0                      85061                 716.0   \n",
       "..            ...                        ...                   ...   \n",
       "155      713823.0                      53452                1489.0   \n",
       "196     1369311.0                     119895                2016.0   \n",
       "25       286803.0                     100625                2803.0   \n",
       "89       214872.0                      24322                 323.0   \n",
       "199     9781577.0                     135880                2203.0   \n",
       "\n",
       "     Total Tests  Tests/1M population  Population  \n",
       "77       79312.0            1393982.0          56  \n",
       "37      136206.0            2041885.0       66706  \n",
       "64      447000.0            9103870.0       49100  \n",
       "177      38369.0            3869793.0        9915  \n",
       "36       25579.0             964008.0       26534  \n",
       "..           ...                  ...         ...  \n",
       "155  197200000.0            1350552.0   146014362  \n",
       "196  314239784.0            4598108.0    68341111  \n",
       "25    63776166.0             297342.0   214487273  \n",
       "89   585038043.0             418689.0  1397309368  \n",
       "199  659963506.0            1979022.0   333479557  \n",
       "\n",
       "[206 rows x 10 columns]"
      ]
     },
     "execution_count": 53,
     "metadata": {},
     "output_type": "execute_result"
    }
   ],
   "source": [
    "covid_data.sort_values(by=\"Total Cases\")"
   ]
  },
  {
   "cell_type": "code",
   "execution_count": 3,
   "id": "41308580",
   "metadata": {},
   "outputs": [
    {
     "data": {
      "text/plain": [
       "'1.2.4'"
      ]
     },
     "execution_count": 3,
     "metadata": {},
     "output_type": "execute_result"
    }
   ],
   "source": [
    "# check version of pandas\n",
    "pd.__version__"
   ]
  },
  {
   "cell_type": "code",
   "execution_count": 4,
   "id": "b439a5a2",
   "metadata": {},
   "outputs": [],
   "source": [
    "data=pd.read_csv(\"worldwide covid data.csv\")"
   ]
  },
  {
   "cell_type": "code",
   "execution_count": 6,
   "id": "52f5fc33",
   "metadata": {},
   "outputs": [
    {
     "data": {
      "text/html": [
       "<div>\n",
       "<style scoped>\n",
       "    .dataframe tbody tr th:only-of-type {\n",
       "        vertical-align: middle;\n",
       "    }\n",
       "\n",
       "    .dataframe tbody tr th {\n",
       "        vertical-align: top;\n",
       "    }\n",
       "\n",
       "    .dataframe thead th {\n",
       "        text-align: right;\n",
       "    }\n",
       "</style>\n",
       "<table border=\"1\" class=\"dataframe\">\n",
       "  <thead>\n",
       "    <tr style=\"text-align: right;\">\n",
       "      <th></th>\n",
       "      <th>Country</th>\n",
       "      <th>Total Cases</th>\n",
       "      <th>Total Deaths</th>\n",
       "      <th>Total Recovered</th>\n",
       "      <th>Active Cases</th>\n",
       "      <th>Total Cases/1M population</th>\n",
       "      <th>Deaths/1M population</th>\n",
       "      <th>Total Tests</th>\n",
       "      <th>Tests/1M population</th>\n",
       "      <th>Population</th>\n",
       "    </tr>\n",
       "  </thead>\n",
       "  <tbody>\n",
       "    <tr>\n",
       "      <th>0</th>\n",
       "      <td>Afghanistan</td>\n",
       "      <td>155540</td>\n",
       "      <td>7228.0</td>\n",
       "      <td>126459.0</td>\n",
       "      <td>21853.0</td>\n",
       "      <td>3884</td>\n",
       "      <td>180.0</td>\n",
       "      <td>764934.0</td>\n",
       "      <td>19102.0</td>\n",
       "      <td>40044373</td>\n",
       "    </tr>\n",
       "    <tr>\n",
       "      <th>1</th>\n",
       "      <td>Albania</td>\n",
       "      <td>175163</td>\n",
       "      <td>2777.0</td>\n",
       "      <td>165434.0</td>\n",
       "      <td>6952.0</td>\n",
       "      <td>60952</td>\n",
       "      <td>966.0</td>\n",
       "      <td>1240204.0</td>\n",
       "      <td>431558.0</td>\n",
       "      <td>2873784</td>\n",
       "    </tr>\n",
       "    <tr>\n",
       "      <th>2</th>\n",
       "      <td>Algeria</td>\n",
       "      <td>204695</td>\n",
       "      <td>5855.0</td>\n",
       "      <td>140319.0</td>\n",
       "      <td>58521.0</td>\n",
       "      <td>4563</td>\n",
       "      <td>131.0</td>\n",
       "      <td>230861.0</td>\n",
       "      <td>5146.0</td>\n",
       "      <td>44859760</td>\n",
       "    </tr>\n",
       "    <tr>\n",
       "      <th>3</th>\n",
       "      <td>Andorra</td>\n",
       "      <td>15307</td>\n",
       "      <td>130.0</td>\n",
       "      <td>15098.0</td>\n",
       "      <td>79.0</td>\n",
       "      <td>197706</td>\n",
       "      <td>1679.0</td>\n",
       "      <td>193595.0</td>\n",
       "      <td>2500484.0</td>\n",
       "      <td>77423</td>\n",
       "    </tr>\n",
       "    <tr>\n",
       "      <th>4</th>\n",
       "      <td>Angola</td>\n",
       "      <td>61580</td>\n",
       "      <td>1629.0</td>\n",
       "      <td>49977.0</td>\n",
       "      <td>9974.0</td>\n",
       "      <td>1802</td>\n",
       "      <td>48.0</td>\n",
       "      <td>1043451.0</td>\n",
       "      <td>30541.0</td>\n",
       "      <td>34165887</td>\n",
       "    </tr>\n",
       "  </tbody>\n",
       "</table>\n",
       "</div>"
      ],
      "text/plain": [
       "       Country  Total Cases  Total Deaths  Total Recovered  Active Cases  \\\n",
       "0  Afghanistan       155540        7228.0         126459.0       21853.0   \n",
       "1      Albania       175163        2777.0         165434.0        6952.0   \n",
       "2      Algeria       204695        5855.0         140319.0       58521.0   \n",
       "3      Andorra        15307         130.0          15098.0          79.0   \n",
       "4       Angola        61580        1629.0          49977.0        9974.0   \n",
       "\n",
       "   Total Cases/1M population  Deaths/1M population  Total Tests  \\\n",
       "0                       3884                 180.0     764934.0   \n",
       "1                      60952                 966.0    1240204.0   \n",
       "2                       4563                 131.0     230861.0   \n",
       "3                     197706                1679.0     193595.0   \n",
       "4                       1802                  48.0    1043451.0   \n",
       "\n",
       "   Tests/1M population  Population  \n",
       "0              19102.0    40044373  \n",
       "1             431558.0     2873784  \n",
       "2               5146.0    44859760  \n",
       "3            2500484.0       77423  \n",
       "4              30541.0    34165887  "
      ]
     },
     "execution_count": 6,
     "metadata": {},
     "output_type": "execute_result"
    }
   ],
   "source": [
    "# view the data\n",
    "# data.head(3) shows first 3 rows of the file\n",
    "# data.head() by default shows first 5 rows of the file\n",
    "data.head()"
   ]
  },
  {
   "cell_type": "code",
   "execution_count": 9,
   "id": "e4b22dae",
   "metadata": {},
   "outputs": [
    {
     "data": {
      "text/plain": [
       "Index(['Country', 'Total Cases', 'Total Deaths', 'Total Recovered',\n",
       "       'Active Cases', 'Total Cases/1M population', 'Deaths/1M population',\n",
       "       'Total Tests', 'Tests/1M population', 'Population'],\n",
       "      dtype='object')"
      ]
     },
     "execution_count": 9,
     "metadata": {},
     "output_type": "execute_result"
    }
   ],
   "source": [
    "# check column names\n",
    "data.columns"
   ]
  },
  {
   "cell_type": "code",
   "execution_count": 10,
   "id": "d144d4f7",
   "metadata": {},
   "outputs": [
    {
     "data": {
      "text/plain": [
       "Country                       object\n",
       "Total Cases                    int64\n",
       "Total Deaths                 float64\n",
       "Total Recovered              float64\n",
       "Active Cases                 float64\n",
       "Total Cases/1M population      int64\n",
       "Deaths/1M population         float64\n",
       "Total Tests                  float64\n",
       "Tests/1M population          float64\n",
       "Population                     int64\n",
       "dtype: object"
      ]
     },
     "execution_count": 10,
     "metadata": {},
     "output_type": "execute_result"
    }
   ],
   "source": [
    "# check dataypes in columns\n",
    "data.dtypes"
   ]
  },
  {
   "cell_type": "code",
   "execution_count": 11,
   "id": "07276a5d",
   "metadata": {},
   "outputs": [
    {
     "data": {
      "text/plain": [
       "Country                      0\n",
       "Total Cases                  0\n",
       "Total Deaths                 1\n",
       "Total Recovered              2\n",
       "Active Cases                 2\n",
       "Total Cases/1M population    0\n",
       "Deaths/1M population         1\n",
       "Total Tests                  4\n",
       "Tests/1M population          4\n",
       "Population                   0\n",
       "dtype: int64"
      ]
     },
     "execution_count": 11,
     "metadata": {},
     "output_type": "execute_result"
    }
   ],
   "source": [
    "# check the null values in the data\n",
    "data.isna().sum()"
   ]
  },
  {
   "cell_type": "code",
   "execution_count": null,
   "id": "2cc47765",
   "metadata": {},
   "outputs": [],
   "source": []
  }
 ],
 "metadata": {
  "kernelspec": {
   "display_name": "Python 3",
   "language": "python",
   "name": "python3"
  },
  "language_info": {
   "codemirror_mode": {
    "name": "ipython",
    "version": 3
   },
   "file_extension": ".py",
   "mimetype": "text/x-python",
   "name": "python",
   "nbconvert_exporter": "python",
   "pygments_lexer": "ipython3",
   "version": "3.8.8"
  }
 },
 "nbformat": 4,
 "nbformat_minor": 5
}
