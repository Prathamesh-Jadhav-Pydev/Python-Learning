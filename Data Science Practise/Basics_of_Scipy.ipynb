{
 "cells": [
  {
   "cell_type": "markdown",
   "id": "c83b8d3b",
   "metadata": {},
   "source": [
    "#                               Scipy "
   ]
  },
  {
   "cell_type": "markdown",
   "id": "027b0bad",
   "metadata": {},
   "source": [
    "#### Scipy is open source scientific librry for python. The scipy library depends on numpy, which provides convinient and fast n-dimensional array manipulation"
   ]
  },
  {
   "cell_type": "code",
   "execution_count": 11,
   "id": "7b7e61ec",
   "metadata": {},
   "outputs": [],
   "source": [
    "#import scipy library \n",
    "import scipy as sc"
   ]
  },
  {
   "cell_type": "code",
   "execution_count": 12,
   "id": "31309574",
   "metadata": {},
   "outputs": [
    {
     "data": {
      "text/plain": [
       "'1.6.2'"
      ]
     },
     "execution_count": 12,
     "metadata": {},
     "output_type": "execute_result"
    }
   ],
   "source": [
    "#check version of scipy\n",
    "sc.__version__"
   ]
  },
  {
   "cell_type": "markdown",
   "id": "7abcc17f",
   "metadata": {},
   "source": [
    "##### Compute the nth derivate of a function"
   ]
  },
  {
   "cell_type": "code",
   "execution_count": 18,
   "id": "a859e12c",
   "metadata": {},
   "outputs": [],
   "source": [
    "# import the derivate from scipy \n",
    "from scipy.misc import derivative"
   ]
  },
  {
   "cell_type": "code",
   "execution_count": 21,
   "id": "32e68661",
   "metadata": {},
   "outputs": [
    {
     "data": {
      "text/plain": [
       "5.0"
      ]
     },
     "execution_count": 21,
     "metadata": {},
     "output_type": "execute_result"
    }
   ],
   "source": [
    "# define the function\n",
    "def my_function(x):\n",
    "    return x**2 + x + 1\n",
    "\n",
    "# calculate the first derivative of the function at x=2\n",
    "\n",
    "derivative(func=my_function,x0=2)"
   ]
  },
  {
   "cell_type": "markdown",
   "id": "4194f0f1",
   "metadata": {},
   "source": [
    "#### Function f(x) = x**2 + x + 1\n",
    "#### Derivate f'(x) =2*x + 1\n",
    "#### Solution f'(x) =2*2 + 1=5 \n",
    "\n",
    "Now , calculate second derivative"
   ]
  },
  {
   "cell_type": "markdown",
   "id": "cc0cd1b5",
   "metadata": {},
   "source": [
    "## Permutation and combination "
   ]
  },
  {
   "cell_type": "code",
   "execution_count": 23,
   "id": "08e014a7",
   "metadata": {},
   "outputs": [],
   "source": [
    "# Combination\n",
    "from scipy.special import comb"
   ]
  },
  {
   "cell_type": "code",
   "execution_count": 24,
   "id": "90d29ed4",
   "metadata": {},
   "outputs": [
    {
     "name": "stdout",
     "output_type": "stream",
     "text": [
      "6.0\n"
     ]
    }
   ],
   "source": [
    "#total number of combinations from 4 different values taken 2 at a time\n",
    "#value of 4C2\n",
    "com=comb(4,2)\n",
    "\n",
    "print(com)"
   ]
  },
  {
   "cell_type": "code",
   "execution_count": 25,
   "id": "cefcb6c0",
   "metadata": {},
   "outputs": [],
   "source": [
    "#Permutation \n",
    "from scipy.special import perm"
   ]
  },
  {
   "cell_type": "code",
   "execution_count": 26,
   "id": "84231b3c",
   "metadata": {},
   "outputs": [
    {
     "name": "stdout",
     "output_type": "stream",
     "text": [
      "12.0\n"
     ]
    }
   ],
   "source": [
    "# Permutations : value of 4P2\n",
    "per=perm(4,2)\n",
    "\n",
    "print(per)"
   ]
  },
  {
   "cell_type": "markdown",
   "id": "9656bd1e",
   "metadata": {},
   "source": [
    "## Linear algebra "
   ]
  },
  {
   "cell_type": "code",
   "execution_count": 29,
   "id": "d33c6889",
   "metadata": {},
   "outputs": [],
   "source": [
    "# import linear algebra module and numpy\n",
    "from scipy import linalg\n",
    "import numpy as np"
   ]
  },
  {
   "cell_type": "code",
   "execution_count": 32,
   "id": "587da4e8",
   "metadata": {},
   "outputs": [],
   "source": [
    "# square  matix \n",
    "matrix=np.array([[1,5,2],\n",
    "               [2,4,5],\n",
    "               [4,2,5]])"
   ]
  },
  {
   "cell_type": "code",
   "execution_count": 33,
   "id": "d148e5ae",
   "metadata": {},
   "outputs": [
    {
     "data": {
      "text/plain": [
       "array([[1, 5, 2],\n",
       "       [2, 4, 5],\n",
       "       [4, 2, 5]])"
      ]
     },
     "execution_count": 33,
     "metadata": {},
     "output_type": "execute_result"
    }
   ],
   "source": [
    "matrix"
   ]
  },
  {
   "cell_type": "code",
   "execution_count": 34,
   "id": "279044d7",
   "metadata": {},
   "outputs": [
    {
     "data": {
      "text/plain": [
       "36.0"
      ]
     },
     "execution_count": 34,
     "metadata": {},
     "output_type": "execute_result"
    }
   ],
   "source": [
    "# pass values to det() function calculate determinant function\n",
    "linalg.det(matrix)"
   ]
  },
  {
   "cell_type": "code",
   "execution_count": 35,
   "id": "1532b748",
   "metadata": {},
   "outputs": [
    {
     "data": {
      "text/plain": [
       "array([[ 0.27777778, -0.58333333,  0.47222222],\n",
       "       [ 0.27777778, -0.08333333, -0.02777778],\n",
       "       [-0.33333333,  0.5       , -0.16666667]])"
      ]
     },
     "execution_count": 35,
     "metadata": {},
     "output_type": "execute_result"
    }
   ],
   "source": [
    "# inverse of matix\n",
    "linalg.inv(matrix)"
   ]
  },
  {
   "cell_type": "code",
   "execution_count": null,
   "id": "c6251e1d",
   "metadata": {},
   "outputs": [],
   "source": []
  }
 ],
 "metadata": {
  "kernelspec": {
   "display_name": "Python 3",
   "language": "python",
   "name": "python3"
  },
  "language_info": {
   "codemirror_mode": {
    "name": "ipython",
    "version": 3
   },
   "file_extension": ".py",
   "mimetype": "text/x-python",
   "name": "python",
   "nbconvert_exporter": "python",
   "pygments_lexer": "ipython3",
   "version": "3.8.8"
  }
 },
 "nbformat": 4,
 "nbformat_minor": 5
}
